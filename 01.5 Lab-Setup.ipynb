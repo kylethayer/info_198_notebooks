{
 "cells": [
  {
   "cell_type": "markdown",
   "id": "62d9cd26-13e3-4df0-99e5-bcfa7fbfad4a",
   "metadata": {},
   "source": [
    "# 01.5 Lab: Setup"
   ]
  },
  {
   "cell_type": "markdown",
   "id": "525c319b-bd5f-4343-bd3e-bd73f4936fb4",
   "metadata": {},
   "source": [
    "The purpose of this lab is to try running a program yourself and get an idea of things you can do with twitter, we aren't going to explain each detail of the code today, that will be covered in the future"
   ]
  },
  {
   "cell_type": "markdown",
   "id": "186630d1-f971-4674-9df7-263fb65770c0",
   "metadata": {},
   "source": [
    "## Install and import the \"tweepy\" library of code that gives us twitter functions"
   ]
  },
  {
   "cell_type": "code",
   "execution_count": 53,
   "id": "5eac50ac-6d95-4fad-917d-fa10eb9b86a1",
   "metadata": {},
   "outputs": [
    {
     "name": "stdout",
     "output_type": "stream",
     "text": [
      "Requirement already satisfied: tweepy in /opt/conda/lib/python3.9/site-packages (4.4.0)\n",
      "Requirement already satisfied: requests-oauthlib<2,>=1.0.0 in /opt/conda/lib/python3.9/site-packages (from tweepy) (1.3.0)\n",
      "Requirement already satisfied: requests<3,>=2.11.1 in /opt/conda/lib/python3.9/site-packages (from tweepy) (2.26.0)\n",
      "Requirement already satisfied: idna<4,>=2.5 in /opt/conda/lib/python3.9/site-packages (from requests<3,>=2.11.1->tweepy) (3.1)\n",
      "Requirement already satisfied: charset-normalizer~=2.0.0 in /opt/conda/lib/python3.9/site-packages (from requests<3,>=2.11.1->tweepy) (2.0.0)\n",
      "Requirement already satisfied: urllib3<1.27,>=1.21.1 in /opt/conda/lib/python3.9/site-packages (from requests<3,>=2.11.1->tweepy) (1.26.7)\n",
      "Requirement already satisfied: certifi>=2017.4.17 in /opt/conda/lib/python3.9/site-packages (from requests<3,>=2.11.1->tweepy) (2021.10.8)\n",
      "Requirement already satisfied: oauthlib>=3.0.0 in /opt/conda/lib/python3.9/site-packages (from requests-oauthlib<2,>=1.0.0->tweepy) (3.1.1)\n"
     ]
    }
   ],
   "source": [
    "!pip install tweepy \n",
    "import tweepy"
   ]
  },
  {
   "cell_type": "markdown",
   "id": "7eb7f2d4-eaa7-4081-941b-f8831c13b039",
   "metadata": {
    "tags": []
   },
   "source": [
    "## Log into the Instructors' twitter with read only access"
   ]
  },
  {
   "cell_type": "code",
   "execution_count": 54,
   "id": "f7f330a5-0fd3-4e74-9c1b-17c042ae9870",
   "metadata": {},
   "outputs": [],
   "source": [
    "import teacher_bot_read_keys\n",
    "client = tweepy.Client(teacher_bot_read_keys.bearer_token)"
   ]
  },
  {
   "cell_type": "markdown",
   "id": "648c97c2-312c-48af-9a97-2edaac1ab276",
   "metadata": {},
   "source": [
    "## You can't post tweets (since you have read only access)\n",
    "If you try to run the command to post a tweet, it will have a long error message in a red box, ending with:\n",
    "> TypeError: Consumer key must be string or bytes, not NoneType\n",
    "\n",
    "This means that in order to post a tweet, it needs the twitter accounts' \"Consumer Key.\" But since we didn't provide it with the login info above, it showed up as \"NoneType\" which means the code to post a tweet couldn't continue.\n",
    "\n",
    "_Note: You can get rid of the long error message by right-clicking on the red error message box and selecting \"Clear Outputs\"_"
   ]
  },
  {
   "cell_type": "code",
   "execution_count": 55,
   "id": "90150239-5061-4d2a-aecf-dd4596106af4",
   "metadata": {},
   "outputs": [
    {
     "ename": "TypeError",
     "evalue": "Consumer key must be string or bytes, not NoneType",
     "output_type": "error",
     "traceback": [
      "\u001b[0;31m---------------------------------------------------------------------------\u001b[0m",
      "\u001b[0;31mTypeError\u001b[0m                                 Traceback (most recent call last)",
      "\u001b[0;32m/tmp/ipykernel_102/3484639289.py\u001b[0m in \u001b[0;36m<module>\u001b[0;34m\u001b[0m\n\u001b[0;32m----> 1\u001b[0;31m \u001b[0mclient\u001b[0m\u001b[0;34m.\u001b[0m\u001b[0mcreate_tweet\u001b[0m\u001b[0;34m(\u001b[0m\u001b[0mtext\u001b[0m\u001b[0;34m=\u001b[0m\u001b[0;34m\"Trying to post this tweet won't work\"\u001b[0m\u001b[0;34m)\u001b[0m\u001b[0;34m\u001b[0m\u001b[0;34m\u001b[0m\u001b[0m\n\u001b[0m",
      "\u001b[0;32m/opt/conda/lib/python3.9/site-packages/tweepy/client.py\u001b[0m in \u001b[0;36mcreate_tweet\u001b[0;34m(self, direct_message_deep_link, for_super_followers_only, place_id, media_ids, media_tagged_user_ids, poll_duration_minutes, poll_options, quote_tweet_id, exclude_reply_user_ids, in_reply_to_tweet_id, reply_settings, text)\u001b[0m\n\u001b[1;32m    521\u001b[0m             \u001b[0mjson\u001b[0m\u001b[0;34m[\u001b[0m\u001b[0;34m\"text\"\u001b[0m\u001b[0;34m]\u001b[0m \u001b[0;34m=\u001b[0m \u001b[0mtext\u001b[0m\u001b[0;34m\u001b[0m\u001b[0;34m\u001b[0m\u001b[0m\n\u001b[1;32m    522\u001b[0m \u001b[0;34m\u001b[0m\u001b[0m\n\u001b[0;32m--> 523\u001b[0;31m         return self._make_request(\n\u001b[0m\u001b[1;32m    524\u001b[0m             \u001b[0;34m\"POST\"\u001b[0m\u001b[0;34m,\u001b[0m \u001b[0;34mf\"/2/tweets\"\u001b[0m\u001b[0;34m,\u001b[0m \u001b[0mjson\u001b[0m\u001b[0;34m=\u001b[0m\u001b[0mjson\u001b[0m\u001b[0;34m,\u001b[0m \u001b[0muser_auth\u001b[0m\u001b[0;34m=\u001b[0m\u001b[0;32mTrue\u001b[0m\u001b[0;34m\u001b[0m\u001b[0;34m\u001b[0m\u001b[0m\n\u001b[1;32m    525\u001b[0m         )\n",
      "\u001b[0;32m/opt/conda/lib/python3.9/site-packages/tweepy/client.py\u001b[0m in \u001b[0;36m_make_request\u001b[0;34m(self, method, route, params, endpoint_parameters, json, data_type, user_auth)\u001b[0m\n\u001b[1;32m    164\u001b[0m                 \u001b[0mlog\u001b[0m\u001b[0;34m.\u001b[0m\u001b[0mwarn\u001b[0m\u001b[0;34m(\u001b[0m\u001b[0;34mf\"Unexpected parameter: {param_name}\"\u001b[0m\u001b[0;34m)\u001b[0m\u001b[0;34m\u001b[0m\u001b[0;34m\u001b[0m\u001b[0m\n\u001b[1;32m    165\u001b[0m \u001b[0;34m\u001b[0m\u001b[0m\n\u001b[0;32m--> 166\u001b[0;31m         response = self.request(method, route, params=request_params,\n\u001b[0m\u001b[1;32m    167\u001b[0m                                 json=json, user_auth=user_auth)\n\u001b[1;32m    168\u001b[0m \u001b[0;34m\u001b[0m\u001b[0m\n",
      "\u001b[0;32m/opt/conda/lib/python3.9/site-packages/tweepy/client.py\u001b[0m in \u001b[0;36mrequest\u001b[0;34m(self, method, route, params, json, user_auth)\u001b[0m\n\u001b[1;32m     93\u001b[0m         \u001b[0mauth\u001b[0m \u001b[0;34m=\u001b[0m \u001b[0;32mNone\u001b[0m\u001b[0;34m\u001b[0m\u001b[0;34m\u001b[0m\u001b[0m\n\u001b[1;32m     94\u001b[0m         \u001b[0;32mif\u001b[0m \u001b[0muser_auth\u001b[0m\u001b[0;34m:\u001b[0m\u001b[0;34m\u001b[0m\u001b[0;34m\u001b[0m\u001b[0m\n\u001b[0;32m---> 95\u001b[0;31m             \u001b[0mauth\u001b[0m \u001b[0;34m=\u001b[0m \u001b[0mOAuthHandler\u001b[0m\u001b[0;34m(\u001b[0m\u001b[0mself\u001b[0m\u001b[0;34m.\u001b[0m\u001b[0mconsumer_key\u001b[0m\u001b[0;34m,\u001b[0m \u001b[0mself\u001b[0m\u001b[0;34m.\u001b[0m\u001b[0mconsumer_secret\u001b[0m\u001b[0;34m)\u001b[0m\u001b[0;34m\u001b[0m\u001b[0;34m\u001b[0m\u001b[0m\n\u001b[0m\u001b[1;32m     96\u001b[0m             \u001b[0mauth\u001b[0m\u001b[0;34m.\u001b[0m\u001b[0mset_access_token\u001b[0m\u001b[0;34m(\u001b[0m\u001b[0mself\u001b[0m\u001b[0;34m.\u001b[0m\u001b[0maccess_token\u001b[0m\u001b[0;34m,\u001b[0m \u001b[0mself\u001b[0m\u001b[0;34m.\u001b[0m\u001b[0maccess_token_secret\u001b[0m\u001b[0;34m)\u001b[0m\u001b[0;34m\u001b[0m\u001b[0;34m\u001b[0m\u001b[0m\n\u001b[1;32m     97\u001b[0m             \u001b[0mauth\u001b[0m \u001b[0;34m=\u001b[0m \u001b[0mauth\u001b[0m\u001b[0;34m.\u001b[0m\u001b[0mapply_auth\u001b[0m\u001b[0;34m(\u001b[0m\u001b[0;34m)\u001b[0m\u001b[0;34m\u001b[0m\u001b[0;34m\u001b[0m\u001b[0m\n",
      "\u001b[0;32m/opt/conda/lib/python3.9/site-packages/tweepy/auth.py\u001b[0m in \u001b[0;36m__init__\u001b[0;34m(self, consumer_key, consumer_secret, callback)\u001b[0m\n\u001b[1;32m     33\u001b[0m     \u001b[0;32mdef\u001b[0m \u001b[0m__init__\u001b[0m\u001b[0;34m(\u001b[0m\u001b[0mself\u001b[0m\u001b[0;34m,\u001b[0m \u001b[0mconsumer_key\u001b[0m\u001b[0;34m,\u001b[0m \u001b[0mconsumer_secret\u001b[0m\u001b[0;34m,\u001b[0m \u001b[0mcallback\u001b[0m\u001b[0;34m=\u001b[0m\u001b[0;32mNone\u001b[0m\u001b[0;34m)\u001b[0m\u001b[0;34m:\u001b[0m\u001b[0;34m\u001b[0m\u001b[0;34m\u001b[0m\u001b[0m\n\u001b[1;32m     34\u001b[0m         \u001b[0;32mif\u001b[0m \u001b[0;32mnot\u001b[0m \u001b[0misinstance\u001b[0m\u001b[0;34m(\u001b[0m\u001b[0mconsumer_key\u001b[0m\u001b[0;34m,\u001b[0m \u001b[0;34m(\u001b[0m\u001b[0mstr\u001b[0m\u001b[0;34m,\u001b[0m \u001b[0mbytes\u001b[0m\u001b[0;34m)\u001b[0m\u001b[0;34m)\u001b[0m\u001b[0;34m:\u001b[0m\u001b[0;34m\u001b[0m\u001b[0;34m\u001b[0m\u001b[0m\n\u001b[0;32m---> 35\u001b[0;31m             raise TypeError(\"Consumer key must be string or bytes, not \"\n\u001b[0m\u001b[1;32m     36\u001b[0m                             + type(consumer_key).__name__)\n\u001b[1;32m     37\u001b[0m         \u001b[0;32mif\u001b[0m \u001b[0;32mnot\u001b[0m \u001b[0misinstance\u001b[0m\u001b[0;34m(\u001b[0m\u001b[0mconsumer_secret\u001b[0m\u001b[0;34m,\u001b[0m \u001b[0;34m(\u001b[0m\u001b[0mstr\u001b[0m\u001b[0;34m,\u001b[0m \u001b[0mbytes\u001b[0m\u001b[0;34m)\u001b[0m\u001b[0;34m)\u001b[0m\u001b[0;34m:\u001b[0m\u001b[0;34m\u001b[0m\u001b[0;34m\u001b[0m\u001b[0m\n",
      "\u001b[0;31mTypeError\u001b[0m: Consumer key must be string or bytes, not NoneType"
     ]
    }
   ],
   "source": [
    "client.create_tweet(text=\"Trying to post this tweet won't work\")"
   ]
  },
  {
   "cell_type": "markdown",
   "id": "b69feda2-7122-4487-b924-c7a98a2dea4d",
   "metadata": {},
   "source": [
    "## You can search for tweets"
   ]
  },
  {
   "cell_type": "code",
   "execution_count": 56,
   "id": "2f2616c7-4c67-45c8-9788-9cf9b8ea2ace",
   "metadata": {},
   "outputs": [
    {
     "data": {
      "text/plain": [
       "[<Tweet id=1478517260725600256 text=@joejoezz @ShannonODKOMO @MitchSpute @wsdot Thanks!>,\n",
       " <Tweet id=1478499807639470082 text=@joejoezz, please tell me this is a trend>,\n",
       " <Tweet id=1478497709224955905 text=@PJKSDK @king5 Welcome! You’ll love it here. And the rain grows on you!>,\n",
       " <Tweet id=1478495910266949634 text=@D5Juarez Congrats, old pal! @NDNlawyer must be celebrating!>,\n",
       " <Tweet id=1478478893963100161 text=@nicoleKIROFM @kirklandgov Never!!!>,\n",
       " <Tweet id=1478478757153292288 text=❄️Seattle snowfall now at 9.2 inches this winter. ❄️\n",
       " \n",
       " Interestingly enough, average snowfall since 2016-17 (past 6 winters) is 9.8 inches. That’s notably above the long-term average of 6.3 inches. https://t.co/hHO9avZYmt>,\n",
       " <Tweet id=1478474227573407751 text=@kylegustafWX Ah good recall! And we know Feb will come thru for us>,\n",
       " <Tweet id=1478467711856349186 text=@nicoleKIROFM @kirklandgov Yikes! Stay safe!>,\n",
       " <Tweet id=1478464671573110784 text=Just realized I’ve already busted too low on snowfall predictions for this winter. Guess was 8”, Seattle already has 9.2”\n",
       " \n",
       " https://t.co/jeZ2bZ8iER>,\n",
       " <Tweet id=1478416774697684992 text=@ScottSeattleWx Yep. Everett insisted on school yesterday &amp; it was exactly like that.>]"
      ]
     },
     "metadata": {},
     "output_type": "display_data"
    }
   ],
   "source": [
    "query = 'from:KSeattleWeather'\n",
    "\n",
    "tweets = client.search_recent_tweets(query=query)\n",
    "\n",
    "display(tweets.data)"
   ]
  },
  {
   "cell_type": "markdown",
   "id": "e1888563-2a93-4e01-bd1b-1028b5452cd2",
   "metadata": {},
   "source": [
    "## You can get user IDs from usernames "
   ]
  },
  {
   "cell_type": "code",
   "execution_count": 58,
   "id": "a8a6e541-712c-49c3-a6e0-a8c2d7ecab01",
   "metadata": {},
   "outputs": [
    {
     "data": {
      "text/plain": [
       "37710752"
      ]
     },
     "execution_count": 58,
     "metadata": {},
     "output_type": "execute_result"
    }
   ],
   "source": [
    "username = \"BillNye\"\n",
    "user_id = client.get_user(username=username).data.id\n",
    "user_id"
   ]
  },
  {
   "cell_type": "markdown",
   "id": "125a4045-0986-4d3e-a44d-6abe0dfaf0a7",
   "metadata": {},
   "source": [
    "## You can get user mentions from ID"
   ]
  },
  {
   "cell_type": "code",
   "execution_count": 59,
   "id": "9d490158-5672-4af6-b3b6-4c7893841024",
   "metadata": {},
   "outputs": [
    {
     "data": {
      "text/plain": [
       "[<Tweet id=1478562900570746883 text=@Owen24447553 @ScienceNews @science @neiltyson @BillNye @hankgreen @Stewie @kfcarabia waiting for your thoughts on this>,\n",
       " <Tweet id=1478562568327282695 text=@ScienceNews @science @neiltyson @BillNye @hankgreen @Stewie  Hey science guys, and Stewie. Just checking in to question your authority. How did the egg come first. You must be fools to think that the egg just appeared. Try to hide your misdoings better next time. \n",
       " Yours Truly,\n",
       " O>,\n",
       " <Tweet id=1478555206921203719 text=@rainnwilson @BillNye was my hero as a kid..hate to see the decline of pursuing science.>,\n",
       " <Tweet id=1478547441871851521 text=@BillNye @neiltyson Did you have one of these when you were a kid? https://t.co/V7Ri5YGYfs>,\n",
       " <Tweet id=1478542266767605763 text=@BillNye If only everyone finally believed that global warming is real.>,\n",
       " <Tweet id=1478540087134724100 text=Cornell is actually locking kids down.  Home of @BillNye>,\n",
       " <Tweet id=1478531963778654214 text=@BillNye  Can.  What does “all of me” mean?  Like covered by a blanket or tucked into a bag?  All of me. All of me. https://t.co/pqBnfkDCDM>,\n",
       " <Tweet id=1478530599669411844 text=@BillNye https://t.co/MxwJ534Lys>,\n",
       " <Tweet id=1478527335855013897 text=@BillNye if I shit myself in the ocean, would I become more or less buoyant?>,\n",
       " <Tweet id=1478525503371894789 text=@BillNye @neiltyson why does the red line appear twice on my ranch as I turn the cup? This could be the secret to FTL travel. https://t.co/dGzCaUy8qT>]"
      ]
     },
     "execution_count": 59,
     "metadata": {},
     "output_type": "execute_result"
    }
   ],
   "source": [
    "client.get_users_mentions(id=user_id).data"
   ]
  },
  {
   "cell_type": "markdown",
   "id": "4a87dcf3-23cc-42f3-8acd-c0dacda1682e",
   "metadata": {
    "tags": []
   },
   "source": [
    "# You can get who the user follows from the ID"
   ]
  },
  {
   "cell_type": "code",
   "execution_count": 60,
   "id": "9258345e-0659-4c89-ab84-ed22d50215e7",
   "metadata": {},
   "outputs": [
    {
     "data": {
      "text/plain": [
       "[<User id=3108033410 name=MasterClass username=MasterClass>,\n",
       " <User id=18131961 name=Ken Jeong username=kenjeong>,\n",
       " <User id=21447363 name=KATY PERRY username=katyperry>,\n",
       " <User id=1221242033530195970 name=Reverend Raphael Warnock username=ReverendWarnock>,\n",
       " <User id=521747968 name=Jon Ossoff username=ossoff>,\n",
       " <User id=939091 name=Joe Biden username=JoeBiden>,\n",
       " <User id=701725963 name=NowThis username=nowthisnews>,\n",
       " <User id=1004804740105035777 name=When We All Vote username=WhenWeAllVote>,\n",
       " <User id=234186830 name=Heidi Przybyla username=HeidiNBC>,\n",
       " <User id=32410378 name=Shannon Pettypiece username=spettypi>,\n",
       " <User id=18948541 name=Seth MacFarlane username=SethMacFarlane>,\n",
       " <User id=1006419421244678144 name=Greta Thunberg username=GretaThunberg>,\n",
       " <User id=7334402 name=Al Franken username=alfranken>,\n",
       " <User id=363423892 name=Sasha Sagan username=SashaSagan>,\n",
       " <User id=27260086 name=Justin Bieber username=justinbieber>,\n",
       " <User id=17919972 name=Taylor Swift username=taylorswift13>,\n",
       " <User id=30973 name=Starbucks Coffee username=Starbucks>,\n",
       " <User id=8161232 name=Richard Branson username=richardbranson>,\n",
       " <User id=40068256 name=Gregory Mone username=gmmone>,\n",
       " <User id=19802879 name=NASA JPL username=NASAJPL>,\n",
       " <User id=138203134 name=Alexandria Ocasio-Cortez username=AOC>,\n",
       " <User id=26224927 name=Represent username=Represent>,\n",
       " <User id=15143478 name=Richard Dawkins username=RichardDawkins>,\n",
       " <User id=14506253 name=Joel McHale username=joelmchale>,\n",
       " <User id=14260960 name=Justin Trudeau username=JustinTrudeau>,\n",
       " <User id=250831586 name=Dwayne Johnson username=TheRock>,\n",
       " <User id=19058681 name=ashton kutcher username=aplusk>,\n",
       " <User id=16303106 name=Stephen Colbert username=StephenAtHome>,\n",
       " <User id=44196397 name=Elon Musk username=elonmusk>,\n",
       " <User id=379379520 name=Jason Spingarn-Koff username=jskoff>,\n",
       " <User id=14606395 name=Sanden Totten username=sandentotten>,\n",
       " <User id=40393673 name=Terry Wood username=woodte>,\n",
       " <User id=166747718 name=Tyler, The Creator username=tylerthecreator>,\n",
       " <User id=21634600 name=Corey S. Powell username=coreyspowell>,\n",
       " <User id=180200031 name=NASA Voyager username=NASAVoyager>,\n",
       " <User id=2734713482 name=NASA New Horizons username=NASANewHorizons>,\n",
       " <User id=27792033 name=Travon Free username=Travon>,\n",
       " <User id=29442313 name=Bernie Sanders username=SenSanders>,\n",
       " <User id=24024778 name=Kal Penn username=kalpenn>,\n",
       " <User id=788451859023310848 name=Bill Nye on Netflix username=BillNyeSaves>,\n",
       " <User id=19834403 name=Mayor Eric Adams username=NYCMayor>,\n",
       " <User id=47285504 name=Mark Ruffalo username=MarkRuffalo>,\n",
       " <User id=873847190 name=The Solutions Project username=SolutionsProj>,\n",
       " <User id=3016964678 name=The Solutions Project username=100isNow>,\n",
       " <User id=1093090866 name=First Lady- Archived username=FLOTUS44>,\n",
       " <User id=818876014390603776 name=Melania Trump 45 Archived username=FLOTUS45>,\n",
       " <User id=19722699 name=Popular Science username=PopSci>,\n",
       " <User id=325830217 name=VP Biden (Archived) username=VP44>,\n",
       " <User id=818910970567344128 name=Vice President Mike Pence Archived username=VP45>,\n",
       " <User id=932117646 name=Tracey deBorja username=traceydeborja>,\n",
       " <User id=16470495 name=Heidi Cullen username=HeidiCullen>,\n",
       " <User id=989633635 name=Gavin Schmidt username=ClimateOfGavin>,\n",
       " <User id=21786618 name=Bill McKibben username=billmckibben>,\n",
       " <User id=321151129 name=Nazeem Hussain username=nazeem_hussain>,\n",
       " <User id=33746386 name=Joanna Hausmann Jatar username=Joannahausmann>,\n",
       " <User id=502135911 name=Nick Offerman username=Nick_Offerman>,\n",
       " <User id=41127954 name=Rachel Crane username=RachCrane>,\n",
       " <User id=596893898 name=Global Citizen ⭕ username=GlblCtzn>,\n",
       " <User id=15473958 name=Curiosity Rover username=MarsCuriosity>,\n",
       " <User id=168987151 name=Derek Muller username=veritasium>,\n",
       " <User id=4620451 name=Phil Plait username=BadAstronomer>,\n",
       " <User id=16573941 name=Netflix username=netflix>,\n",
       " <User id=40221971 name=Emily Calandrelli username=TheSpaceGal>,\n",
       " <User id=17158189 name=Mike Drucker username=MikeDrucker>,\n",
       " <User id=16958346 name=Climate Reality username=ClimateReality>,\n",
       " <User id=149346219 name=Joe Bastardi username=BigJoeBastardi>,\n",
       " <User id=28412286 name=Karlie Kloss username=karliekloss>,\n",
       " <User id=21982720 name=Arianna Huffington username=ariannahuff>,\n",
       " <User id=27673684 name=DJ KHALED username=djkhaled>,\n",
       " <User id=133880286 name=Leonardo DiCaprio username=LeoDiCaprio>,\n",
       " <User id=34743251 name=SpaceX username=SpaceX>,\n",
       " <User id=3230052541 name=Andy Weir username=andyweirauthor>,\n",
       " <User id=18567018 name=Big Think username=bigthink>,\n",
       " <User id=17019152 name=Steve Aoki username=steveaoki>,\n",
       " <User id=502281810 name=Julia Louis-Dreyfus username=OfficialJLD>,\n",
       " <User id=20708202 name=Hugh Evans username=Hughcevans>,\n",
       " <User id=50393960 name=Bill Gates username=BillGates>,\n",
       " <User id=1047719798 name=Nina Jablonski username=NinaJablonski1>,\n",
       " <User id=3044010446 name=Bill Nye Science Guy username=billnyefilm>,\n",
       " <User id=316389142 name=John Oliver username=iamjohnoliver>,\n",
       " <User id=308245641 name=The YEARS Project username=YEARSofLIVING>,\n",
       " <User id=25343191 name=Jay Pharoah username=JayPharoah>,\n",
       " <User id=55117855 name=Amy Schumer username=amyschumer>,\n",
       " <User id=17866318 name=Liza Donnelly username=lizadonnelly>,\n",
       " <User id=822215679726100480 name=President Trump 45 Archived username=POTUS45>,\n",
       " <User id=1536791610 name=President Obama username=POTUS44>,\n",
       " <User id=12044602 name=Arnold username=Schwarzenegger>,\n",
       " <User id=813286 name=Barack Obama username=BarackObama>,\n",
       " <User id=15485441 name=jimmy fallon username=jimmyfallon>,\n",
       " <User id=122140830 name=Alexander Zwissler username=AlexZwissler>,\n",
       " <User id=14824849 name=Steve Martin username=SteveMartinToGo>,\n",
       " <User id=372123868 name=Cindy Hennessy username=Zeitfeist>,\n",
       " <User id=19081001 name=Foo Fighters username=foofighters>,\n",
       " <User id=31080039 name=Lena Dunham username=lenadunham>,\n",
       " <User id=414569910 name=jackantonoff username=jackantonoff>,\n",
       " <User id=213099400 name=Drew Lewis username=hermajestydrew>,\n",
       " <User id=17554090 name=Nick Pampenella username=nickpampenella>,\n",
       " <User id=19697415 name=Bill Maher username=billmaher>,\n",
       " <User id=39350793 name=Tyne Stecklein username=TyneStecklein>,\n",
       " <User id=592912724 name=AsapSCIENCE username=AsapSCIENCE>]"
      ]
     },
     "execution_count": 60,
     "metadata": {},
     "output_type": "execute_result"
    }
   ],
   "source": [
    "following = client.get_users_following(user_id).data\n",
    "following"
   ]
  },
  {
   "cell_type": "markdown",
   "id": "87fcd995-677f-4cd4-9381-a41954a0b12e",
   "metadata": {},
   "source": [
    "# You can manipulate the output"
   ]
  },
  {
   "cell_type": "code",
   "execution_count": 62,
   "id": "87c9d9b7-7a06-481b-8053-1c951ba1edb4",
   "metadata": {},
   "outputs": [
    {
     "name": "stdout",
     "output_type": "stream",
     "text": [
      "Bill Nye the Science Guy follows MasterClass!\n",
      "Bill Nye the Science Guy follows Ken Jeong!\n",
      "Bill Nye the Science Guy follows KATY PERRY!\n",
      "Bill Nye the Science Guy follows Reverend Raphael Warnock!\n",
      "Bill Nye the Science Guy follows Jon Ossoff!\n",
      "Bill Nye the Science Guy follows Joe Biden!\n",
      "Bill Nye the Science Guy follows NowThis!\n",
      "Bill Nye the Science Guy follows When We All Vote!\n",
      "Bill Nye the Science Guy follows Heidi Przybyla!\n",
      "Bill Nye the Science Guy follows Shannon Pettypiece!\n",
      "Bill Nye the Science Guy follows Seth MacFarlane!\n",
      "Bill Nye the Science Guy follows Greta Thunberg!\n",
      "Bill Nye the Science Guy follows Al Franken!\n",
      "Bill Nye the Science Guy follows Sasha Sagan!\n",
      "Bill Nye the Science Guy follows Justin Bieber!\n",
      "Bill Nye the Science Guy follows Taylor Swift!\n",
      "Bill Nye the Science Guy follows Starbucks Coffee!\n",
      "Bill Nye the Science Guy follows Richard Branson!\n",
      "Bill Nye the Science Guy follows Gregory Mone!\n",
      "Bill Nye the Science Guy follows NASA JPL!\n",
      "Bill Nye the Science Guy follows Alexandria Ocasio-Cortez!\n",
      "Bill Nye the Science Guy follows Represent!\n",
      "Bill Nye the Science Guy follows Richard Dawkins!\n",
      "Bill Nye the Science Guy follows Joel McHale!\n",
      "Bill Nye the Science Guy follows Justin Trudeau!\n",
      "Bill Nye the Science Guy follows Dwayne Johnson!\n",
      "Bill Nye the Science Guy follows ashton kutcher!\n",
      "Bill Nye the Science Guy follows Stephen Colbert!\n",
      "Bill Nye the Science Guy follows Elon Musk!\n",
      "Bill Nye the Science Guy follows Jason Spingarn-Koff!\n",
      "Bill Nye the Science Guy follows Sanden Totten!\n",
      "Bill Nye the Science Guy follows Terry Wood!\n",
      "Bill Nye the Science Guy follows Tyler, The Creator!\n",
      "Bill Nye the Science Guy follows Corey S. Powell!\n",
      "Bill Nye the Science Guy follows NASA Voyager!\n",
      "Bill Nye the Science Guy follows NASA New Horizons!\n",
      "Bill Nye the Science Guy follows Travon Free!\n",
      "Bill Nye the Science Guy follows Bernie Sanders!\n",
      "Bill Nye the Science Guy follows Kal Penn!\n",
      "Bill Nye the Science Guy follows Bill Nye on Netflix!\n",
      "Bill Nye the Science Guy follows Mayor Eric Adams!\n",
      "Bill Nye the Science Guy follows Mark Ruffalo!\n",
      "Bill Nye the Science Guy follows The Solutions Project!\n",
      "Bill Nye the Science Guy follows The Solutions Project!\n",
      "Bill Nye the Science Guy follows First Lady- Archived!\n",
      "Bill Nye the Science Guy follows Melania Trump 45 Archived!\n",
      "Bill Nye the Science Guy follows Popular Science!\n",
      "Bill Nye the Science Guy follows VP Biden (Archived)!\n",
      "Bill Nye the Science Guy follows Vice President Mike Pence Archived!\n",
      "Bill Nye the Science Guy follows Tracey deBorja!\n",
      "Bill Nye the Science Guy follows Heidi Cullen!\n",
      "Bill Nye the Science Guy follows Gavin Schmidt!\n",
      "Bill Nye the Science Guy follows Bill McKibben!\n",
      "Bill Nye the Science Guy follows Nazeem Hussain!\n",
      "Bill Nye the Science Guy follows Joanna Hausmann Jatar!\n",
      "Bill Nye the Science Guy follows Nick Offerman!\n",
      "Bill Nye the Science Guy follows Rachel Crane!\n",
      "Bill Nye the Science Guy follows Global Citizen ⭕!\n",
      "Bill Nye the Science Guy follows Curiosity Rover!\n",
      "Bill Nye the Science Guy follows Derek Muller!\n",
      "Bill Nye the Science Guy follows Phil Plait!\n",
      "Bill Nye the Science Guy follows Netflix!\n",
      "Bill Nye the Science Guy follows Emily Calandrelli!\n",
      "Bill Nye the Science Guy follows Mike Drucker!\n",
      "Bill Nye the Science Guy follows Climate Reality!\n",
      "Bill Nye the Science Guy follows Joe Bastardi!\n",
      "Bill Nye the Science Guy follows Karlie Kloss!\n",
      "Bill Nye the Science Guy follows Arianna Huffington!\n",
      "Bill Nye the Science Guy follows DJ KHALED!\n",
      "Bill Nye the Science Guy follows Leonardo DiCaprio!\n",
      "Bill Nye the Science Guy follows SpaceX!\n",
      "Bill Nye the Science Guy follows Andy Weir!\n",
      "Bill Nye the Science Guy follows Big Think!\n",
      "Bill Nye the Science Guy follows Steve Aoki!\n",
      "Bill Nye the Science Guy follows Julia Louis-Dreyfus!\n",
      "Bill Nye the Science Guy follows Hugh Evans!\n",
      "Bill Nye the Science Guy follows Bill Gates!\n",
      "Bill Nye the Science Guy follows Nina Jablonski!\n",
      "Bill Nye the Science Guy follows Bill Nye Science Guy!\n",
      "Bill Nye the Science Guy follows John Oliver!\n",
      "Bill Nye the Science Guy follows The YEARS Project!\n",
      "Bill Nye the Science Guy follows Jay Pharoah!\n",
      "Bill Nye the Science Guy follows Amy Schumer!\n",
      "Bill Nye the Science Guy follows Liza Donnelly!\n",
      "Bill Nye the Science Guy follows President Trump 45 Archived!\n",
      "Bill Nye the Science Guy follows President Obama!\n",
      "Bill Nye the Science Guy follows Arnold!\n",
      "Bill Nye the Science Guy follows Barack Obama!\n",
      "Bill Nye the Science Guy follows jimmy fallon!\n",
      "Bill Nye the Science Guy follows Alexander Zwissler!\n",
      "Bill Nye the Science Guy follows Steve Martin!\n",
      "Bill Nye the Science Guy follows Cindy Hennessy!\n",
      "Bill Nye the Science Guy follows Foo Fighters!\n",
      "Bill Nye the Science Guy follows Lena Dunham!\n",
      "Bill Nye the Science Guy follows jackantonoff!\n",
      "Bill Nye the Science Guy follows Drew Lewis!\n",
      "Bill Nye the Science Guy follows Nick Pampenella!\n",
      "Bill Nye the Science Guy follows Bill Maher!\n",
      "Bill Nye the Science Guy follows Tyne Stecklein!\n",
      "Bill Nye the Science Guy follows AsapSCIENCE!\n"
     ]
    }
   ],
   "source": [
    "for user in following:\n",
    "    print('Bill Nye the Science Guy follows ' + user.name + '!')"
   ]
  },
  {
   "cell_type": "markdown",
   "id": "0b7d5787-ec6f-4050-9c77-e02d4eed0a74",
   "metadata": {},
   "source": [
    "# YOU TRY:"
   ]
  },
  {
   "cell_type": "markdown",
   "id": "d6669084-cd25-4475-9cbe-2bbba0e8c95a",
   "metadata": {
    "tags": []
   },
   "source": [
    "## 1) Modify the \"query\" variable to search for someone else's tweets."
   ]
  },
  {
   "cell_type": "code",
   "execution_count": null,
   "id": "45f967cc-1387-4542-94c4-a7182f40d8ef",
   "metadata": {},
   "outputs": [],
   "source": [
    "query = 'from:???'    # replace the \"???\" with the username of the account you want\n",
    "\n",
    "tweets = client.search_recent_tweets(query=query)\n",
    "\n",
    "display(tweets.data)"
   ]
  },
  {
   "cell_type": "markdown",
   "id": "b7b52387-c961-45e7-9e62-3a5b4e76fd0a",
   "metadata": {},
   "source": [
    "## 2) Modify the username to get the ID from a twitter user of your choice"
   ]
  },
  {
   "cell_type": "code",
   "execution_count": null,
   "id": "908d179d-ba71-4edf-8e1e-7014d0581d31",
   "metadata": {},
   "outputs": [],
   "source": [
    "username = \"???\"\n",
    "user_id = client.get_user(username=username).data.id\n",
    "user_id"
   ]
  },
  {
   "cell_type": "markdown",
   "id": "61f6735c-d1aa-4d6e-ab42-f13fb05c1606",
   "metadata": {},
   "source": [
    "## 3) Get user mentions from the ID"
   ]
  },
  {
   "cell_type": "code",
   "execution_count": 48,
   "id": "84cd6d58-88bf-4fad-a882-4a0cb5ec7333",
   "metadata": {},
   "outputs": [],
   "source": [
    "# Try it yourself by copying code from above and pasting it here:\n"
   ]
  },
  {
   "cell_type": "markdown",
   "id": "d46abf8c-db3f-4c2b-9cc5-abfdc7577465",
   "metadata": {
    "tags": []
   },
   "source": [
    "## 4) Get who the user follows from the ID"
   ]
  },
  {
   "cell_type": "code",
   "execution_count": 50,
   "id": "bad790c5-3177-441b-8813-4a2894be9a56",
   "metadata": {},
   "outputs": [],
   "source": [
    "# Try it yourself by copying code from above and pasting it here:\n"
   ]
  },
  {
   "cell_type": "markdown",
   "id": "a172a1cd-7006-4bfe-a5ff-7bcf72152a58",
   "metadata": {},
   "source": [
    "## Optional bonus challenge (not for credit): \n",
    "\n",
    "Try using a method we haven't tried in the demos! Refer to: https://docs.tweepy.org/en/stable/client.html#"
   ]
  },
  {
   "cell_type": "code",
   "execution_count": 52,
   "id": "d377f5f0-0b9b-4e2f-bed2-8dc8b8251e9d",
   "metadata": {},
   "outputs": [],
   "source": [
    "# Write your answer here:\n"
   ]
  }
 ],
 "metadata": {
  "kernelspec": {
   "display_name": "Python 3 (ipykernel)",
   "language": "python",
   "name": "python3"
  },
  "language_info": {
   "codemirror_mode": {
    "name": "ipython",
    "version": 3
   },
   "file_extension": ".py",
   "mimetype": "text/x-python",
   "name": "python",
   "nbconvert_exporter": "python",
   "pygments_lexer": "ipython3",
   "version": "3.9.7"
  }
 },
 "nbformat": 4,
 "nbformat_minor": 5
}

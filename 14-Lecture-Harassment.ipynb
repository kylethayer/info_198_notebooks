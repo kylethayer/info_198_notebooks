{
 "cells": [
  {
   "cell_type": "markdown",
   "id": "0cd4388e-b71c-4bd1-a60e-d2ef3933f3de",
   "metadata": {},
   "source": [
    "# Lecture 14: Demo of recursion"
   ]
  },
  {
   "cell_type": "markdown",
   "id": "58f0c993-bce6-43ed-bb8f-cb1771582cd3",
   "metadata": {},
   "source": [
    "## Create a tweet structure\n",
    "```\n",
    "                            TWEET #1                         LAYER #1\n",
    "                          /          \\\n",
    "                         /            \\\n",
    "                 TWEET #2           TWEET #3                  LAYER #2\n",
    "               /         \\        /         \\\n",
    "              /           \\      /           \\\n",
    "       TWEET #4     TWEET #5    TWEET #6     TWEET #7         LAYER #3\n",
    "      /       \\     /      \\    /      \\     /      \\\n",
    "     /         \\   /        \\  /        \\   /        \\\n",
    "    \n",
    "    ...                                                     \n",
    "                 \n",
    "```"
   ]
  },
  {
   "cell_type": "code",
   "execution_count": 1,
   "id": "15042538-7669-4485-8544-3d2d83278bb2",
   "metadata": {},
   "outputs": [
    {
     "data": {
      "text/plain": [
       "{'text': 'That last exam in sure was hard!',\n",
       " 'replies': [{'text': 'It sure was hard, what score did you get? ',\n",
       "   'replies': [{'text': 'I got a 67% :(', 'replies': []},\n",
       "    {'text': 'I got a 73%', 'replies': []}]},\n",
       "  {'text': \"I didn't think it was that bad\",\n",
       "   'replies': [{'text': 'how was that not a super hard exam?', 'replies': []},\n",
       "    {'text': \"of course you didn't\",\n",
       "     'replies': [{'text': \"what's that supposed to mean?\",\n",
       "       'replies': [{'text': \"you're an overacheiver\",\n",
       "         'replies': [{'text': \"and that's bad how?\", 'replies': []}]}]}]}]}]}"
      ]
     },
     "metadata": {},
     "output_type": "display_data"
    }
   ],
   "source": [
    "tweet_about_exam = {\n",
    "    'text': 'That last exam in sure was hard!',\n",
    "    'replies':[{\n",
    "        'text': 'It sure was hard, what score did you get? ',\n",
    "        'replies': [{\n",
    "            'text': 'I got a 67% :(',\n",
    "            'replies': []\n",
    "        },{\n",
    "            'text': 'I got a 73%',\n",
    "            'replies': []\n",
    "        }]\n",
    "    }, {\n",
    "        'text': 'I didn\\'t think it was that bad',\n",
    "        'replies': [{\n",
    "            'text': 'how was that not a super hard exam?',\n",
    "            'replies': []\n",
    "        }, {\n",
    "            'text': 'of course you didn\\'t',\n",
    "            'replies': [{\n",
    "                'text': 'what\\'s that supposed to mean?',\n",
    "                'replies': [{\n",
    "                    'text': 'you\\'re an overacheiver',\n",
    "                    'replies': [{\n",
    "                        'text': 'and that\\'s bad how?',\n",
    "                        'replies': []\n",
    "                    }]\n",
    "                }]\n",
    "            }]\n",
    "        }]\n",
    "    }]\n",
    "}\n",
    "\n",
    "display(tweet_about_exam)"
   ]
  },
  {
   "cell_type": "markdown",
   "id": "2756f1ad-fa84-4396-b122-7423267bf9ed",
   "metadata": {},
   "source": [
    "### Try printing using for loops"
   ]
  },
  {
   "cell_type": "markdown",
   "id": "82879511-cccf-4b8e-87f1-7ecc7d3138a1",
   "metadata": {},
   "source": [
    "#### Just the root tweet"
   ]
  },
  {
   "cell_type": "code",
   "execution_count": 2,
   "id": "740191bd-ec6c-460f-9614-25b5711a963c",
   "metadata": {},
   "outputs": [
    {
     "name": "stdout",
     "output_type": "stream",
     "text": [
      "That last exam in sure was hard!\n"
     ]
    }
   ],
   "source": [
    "print(tweet_about_exam['text'])"
   ]
  },
  {
   "cell_type": "markdown",
   "id": "168737e9-686d-44ed-a737-09141e526a7d",
   "metadata": {},
   "source": [
    "#### The root tweet and replies"
   ]
  },
  {
   "cell_type": "code",
   "execution_count": 4,
   "id": "05ea4c2e-f2d9-49c0-9ffc-21682595e1fe",
   "metadata": {},
   "outputs": [
    {
     "name": "stdout",
     "output_type": "stream",
     "text": [
      "That last exam in sure was hard!\n",
      "  -It sure was hard, what score did you get? \n",
      "  -I didn't think it was that bad\n"
     ]
    }
   ],
   "source": [
    "print(tweet_about_exam['text'])\n",
    "\n",
    "for reply in tweet_about_exam['replies']:\n",
    "    print('  -' + reply['text'])\n"
   ]
  },
  {
   "cell_type": "markdown",
   "id": "5aa5738f-4fbf-4696-a044-c2b37894035e",
   "metadata": {},
   "source": [
    "#### The root tweet and replies and replies to those replies"
   ]
  },
  {
   "cell_type": "code",
   "execution_count": 6,
   "id": "b8253370-c1dd-41fa-9e70-cca4c69be704",
   "metadata": {},
   "outputs": [
    {
     "name": "stdout",
     "output_type": "stream",
     "text": [
      "That last exam in sure was hard!\n",
      "  -It sure was hard, what score did you get? \n",
      "      -I got a 67% :(\n",
      "      -I got a 73%\n",
      "  -I didn't think it was that bad\n",
      "      -how was that not a super hard exam?\n",
      "      -of course you didn't\n"
     ]
    }
   ],
   "source": [
    "print(tweet_about_exam['text'])\n",
    "\n",
    "for reply in tweet_about_exam['replies']:\n",
    "    print('  -' + reply['text'])\n",
    "    \n",
    "    for reply_reply in reply['replies']:\n",
    "        print('      -' + reply_reply['text'])"
   ]
  },
  {
   "cell_type": "markdown",
   "id": "7b0df479-6097-4c25-83b5-e91d74649df6",
   "metadata": {},
   "source": [
    "### for loops didn't work great\n",
    "We still didn't get all the replies. For every level of replies we need another for loop. This could go on endlessly."
   ]
  },
  {
   "cell_type": "markdown",
   "id": "b82990b4-e510-42e6-97b9-aad3daa78caa",
   "metadata": {},
   "source": [
    "### Now use recursion: a function that calls itself\n",
    "We make a function `print_tweet_and_replies` that prints a tweet and all its replies.\n",
    "\n",
    "The way it does this is it prints the 'text' of a tweet and then for each reply it uses the `print_tweet_and_replies` to print that tweet and all its replies."
   ]
  },
  {
   "cell_type": "code",
   "execution_count": 7,
   "id": "2b8f6de2-6423-4906-865e-153d28230264",
   "metadata": {},
   "outputs": [
    {
     "name": "stdout",
     "output_type": "stream",
     "text": [
      "That last exam in sure was hard!\n",
      "It sure was hard, what score did you get? \n",
      "I got a 67% :(\n",
      "I got a 73%\n",
      "I didn't think it was that bad\n",
      "how was that not a super hard exam?\n",
      "of course you didn't\n",
      "what's that supposed to mean?\n",
      "you're an overacheiver\n",
      "and that's bad how?\n"
     ]
    }
   ],
   "source": [
    "def print_tweet_and_replies(tweet):\n",
    "    # print tweet\n",
    "    print(tweet['text'])\n",
    "    \n",
    "    #print replies (and the replies of those, etc.)\n",
    "    for reply in tweet['replies']:\n",
    "        print_tweet_and_replies(reply)\n",
    "\n",
    "print_tweet_and_replies(tweet_about_exam)"
   ]
  },
  {
   "cell_type": "markdown",
   "id": "b0c5de55-075a-42c6-af6e-8c0e1c781590",
   "metadata": {},
   "source": [
    "### Modify the function to add indents for replies"
   ]
  },
  {
   "cell_type": "code",
   "execution_count": 8,
   "id": "1c22b0d6-50ea-436f-b101-527b2f58f8ce",
   "metadata": {},
   "outputs": [
    {
     "name": "stdout",
     "output_type": "stream",
     "text": [
      "-That last exam in sure was hard!\n",
      "   -It sure was hard, what score did you get? \n",
      "      -I got a 67% :(\n",
      "      -I got a 73%\n",
      "   -I didn't think it was that bad\n",
      "      -how was that not a super hard exam?\n",
      "      -of course you didn't\n",
      "         -what's that supposed to mean?\n",
      "            -you're an overacheiver\n",
      "               -and that's bad how?\n"
     ]
    }
   ],
   "source": [
    "def print_tweet_and_replies(tweet, num_indents=0):\n",
    "    # print indent first\n",
    "    for i in range(num_indents):\n",
    "        print('   ', end='')\n",
    "        \n",
    "    # print tweet\n",
    "    print('-' + tweet['text'])\n",
    "    \n",
    "    #print replies (and the replies of those, etc.)\n",
    "    for reply in tweet['replies']:\n",
    "        print_tweet_and_replies(reply, num_indents = num_indents + 1)\n",
    "\n",
    "print_tweet_and_replies(tweet_about_exam)"
   ]
  },
  {
   "cell_type": "markdown",
   "id": "fa3522e3-f239-4a93-a18b-377e6d7a09d8",
   "metadata": {},
   "source": [
    "### What you say in computer science terms, was a \"depth-first-search\" on a \"tree\" data structure"
   ]
  }
 ],
 "metadata": {
  "kernelspec": {
   "display_name": "Python 3 (ipykernel)",
   "language": "python",
   "name": "python3"
  },
  "language_info": {
   "codemirror_mode": {
    "name": "ipython",
    "version": 3
   },
   "file_extension": ".py",
   "mimetype": "text/x-python",
   "name": "python",
   "nbconvert_exporter": "python",
   "pygments_lexer": "ipython3",
   "version": "3.9.7"
  }
 },
 "nbformat": 4,
 "nbformat_minor": 5
}

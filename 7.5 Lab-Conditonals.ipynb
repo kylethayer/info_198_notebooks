{
 "cells": [
  {
   "cell_type": "markdown",
   "id": "f945d49a-b2be-4da7-9a9e-b2d3f5e9cb1c",
   "metadata": {},
   "source": [
    "# Conditionals"
   ]
  },
  {
   "cell_type": "markdown",
   "id": "388e1bdc-509e-4e4e-98ff-2dbf757c5abb",
   "metadata": {},
   "source": [
    "## While Loops"
   ]
  },
  {
   "cell_type": "markdown",
   "id": "02e7d8a4-875e-411e-8a89-2b3fe5b505ab",
   "metadata": {},
   "source": [
    "Just like the For loop, the while loop performs repetitions, each iteration executes the body only if the condition is True, otherwise the loop ends.\n",
    "\n",
    "The structure of the loop looks like this:\n",
    "\n",
    "```\n",
    "while CONDITION:\n",
    "    STATEMENT\n",
    "    STATEMENT\n",
    "    STATEMENT\n",
    "```"
   ]
  },
  {
   "cell_type": "code",
   "execution_count": null,
   "id": "d8226c99-0358-4f59-a0a1-796724aa51bc",
   "metadata": {},
   "outputs": [],
   "source": [
    "# Try out this example:\n",
    "\n",
    "x = 5\n",
    "while x > 0:\n",
    "    print(x)\n",
    "    x = x - 1"
   ]
  },
  {
   "cell_type": "markdown",
   "id": "62415c06-57de-4e43-8962-f860752957ec",
   "metadata": {},
   "source": [
    "1. Create a 30 second coutdown using a while loop, the ``sleep()`` function, and the ``print()`` function."
   ]
  },
  {
   "cell_type": "code",
   "execution_count": null,
   "id": "25c864b3-e118-4d37-a78c-228b1af920dd",
   "metadata": {},
   "outputs": [],
   "source": []
  },
  {
   "cell_type": "markdown",
   "id": "de5607ce-e3b9-48b5-b87c-79313e3e6ef7",
   "metadata": {},
   "source": [
    "## IF ELSE Statements"
   ]
  },
  {
   "cell_type": "markdown",
   "id": "374cc867-0279-432a-a741-6cc51e6c6bec",
   "metadata": {},
   "source": [
    "Conditional statements let you execute code based on some condition.\n",
    "\n",
    "A conditional block is an `if` block, optionally followed by any number of `elif` blocks (\"elif\" is short for \"else if\", optionally followed by at most one `else` block. The conditional block will only ever let one condition run."
   ]
  },
  {
   "cell_type": "code",
   "execution_count": null,
   "id": "893bc86b-301c-49f1-b35c-aa002fda8f61",
   "metadata": {},
   "outputs": [],
   "source": [
    "# try out the following example:\n",
    "\n",
    "if 5 < 7:\n",
    "    print('Yes!')\n",
    "else:\n",
    "    print('No!')"
   ]
  },
  {
   "cell_type": "code",
   "execution_count": null,
   "id": "c65f9959-3201-4afd-9bde-ba1ca5b6f998",
   "metadata": {},
   "outputs": [],
   "source": [
    "# try out the following example:\n",
    "\n",
    "x = 15\n",
    "if x < 11:\n",
    "    print('A')\n",
    "elif x >= 13:\n",
    "    print('B')\n",
    "elif x >= 25:\n",
    "    print('Never')\n",
    "else:\n",
    "    print('C')"
   ]
  },
  {
   "cell_type": "markdown",
   "id": "2e84ce24-7809-45d4-a29e-0a059f2bfff4",
   "metadata": {},
   "source": [
    "2. Refer to the example. Let's say x was changed to 30. What would the output be?\n",
    "\n",
    "*Do Not Code. Please answer this question as a markdown block. Modify the code above to check your answer afterwords."
   ]
  },
  {
   "cell_type": "markdown",
   "id": "74895e3f-a6b2-48e9-ab53-ab1bc25759ec",
   "metadata": {},
   "source": []
  },
  {
   "cell_type": "markdown",
   "id": "8b360afa-bfdb-4cfd-a32a-672a9e241941",
   "metadata": {},
   "source": [
    "3. What value would the `x` variable have to be in order to get the output 'C'?\n",
    "\n",
    "*Again, Do Not Code. Please answer this question as a markdown block Modify the code above to check your answer afterwords."
   ]
  },
  {
   "cell_type": "markdown",
   "id": "8c4ed667-4c0b-4b1b-b6c5-d83f49f8942b",
   "metadata": {},
   "source": []
  },
  {
   "cell_type": "markdown",
   "id": "f1d28559-ad82-4fe0-95d2-a11e756966c3",
   "metadata": {},
   "source": [
    "## Expressions"
   ]
  },
  {
   "cell_type": "markdown",
   "id": "8dbca376-86de-4efd-8133-e5bbd7b883f9",
   "metadata": {},
   "source": [
    "You guys already have a lot of experience working with expressions. Let's review.\n",
    "\n",
    "\n",
    "Here are the operations defined for `int` types and `float` types:\n",
    "\n",
    "*  <b>Addition: </b> `a + b`\n",
    "*  <b>Subtraction: </b> `a - b`\n",
    "*  <b>Multiplication: </b> `a * b`\n",
    "*  <b>Division: </b> `a / b` (e.g., 7 / 3 == 2.333333333)\n",
    "*  <b>Integer division: </b> `a // b` (e.g., 7 // 3 == 2)\n",
    "*  <b>Mod: </b> `a % b` (i.e., remainder from integer division as in 7 % 3 == 1)\n",
    "*  <b>Exponentiation: </b> `a ** b`  (i.e., raise to a power a^b)\n",
    "\n"
   ]
  },
  {
   "cell_type": "code",
   "execution_count": null,
   "id": "eb9ca318-4bc8-4fb9-8eac-d755fab609b4",
   "metadata": {},
   "outputs": [],
   "source": [
    "# you can also nest expressions, try out the following example:\n",
    "a = 3\n",
    "print(a - (2 * a) + (a ** (1 + 2)))"
   ]
  },
  {
   "cell_type": "markdown",
   "id": "1b4c67b2-b295-4d4b-b79b-2394f9e751a4",
   "metadata": {},
   "source": [
    "4. What would be the output? (Try to figure it out by hand, then check it with code)\n",
    "\n",
    "```\n",
    "x = 7\n",
    "y = 2\n",
    "print(x / y)\n",
    "```"
   ]
  },
  {
   "cell_type": "code",
   "execution_count": null,
   "id": "5aabbf26-9928-4318-a568-a83f41a0da47",
   "metadata": {},
   "outputs": [],
   "source": []
  },
  {
   "cell_type": "markdown",
   "id": "645e3819-8bb9-4183-b166-52f5085b334f",
   "metadata": {},
   "source": [
    "5. What would be the output? (Try to figure it out by hand, then check it with code)\n",
    "\n",
    "```\n",
    "x = 7\n",
    "y = 2\n",
    "print(x // y)\n",
    "```"
   ]
  },
  {
   "cell_type": "code",
   "execution_count": null,
   "id": "8a843db5-d06d-4588-8e04-8d41e9df80d0",
   "metadata": {},
   "outputs": [],
   "source": []
  },
  {
   "cell_type": "markdown",
   "id": "6d2b7199-f8cd-4856-b2df-c79c8a6d42a3",
   "metadata": {},
   "source": [
    "6. What would be the ouput? (Try to figure it out by hand, then check it with code)\n",
    "\n",
    "```\n",
    "x = 10\n",
    "y = 50\n",
    "if x ** 2 > 100 and y < 100:\n",
    "    print(x, y)\n",
    "    \n",
    "```"
   ]
  },
  {
   "cell_type": "code",
   "execution_count": null,
   "id": "ef54da66-ebe4-416b-930f-c6f782f9830c",
   "metadata": {
    "tags": []
   },
   "outputs": [],
   "source": []
  },
  {
   "cell_type": "markdown",
   "id": "73a79ec9-91e0-49fd-98a9-553b5f7387ff",
   "metadata": {},
   "source": [
    "7. Create a list called `random_numbers`. Choose five random numbers at random in your head to put in the list."
   ]
  },
  {
   "cell_type": "code",
   "execution_count": null,
   "id": "22a1695b-32f9-40b3-9fe7-d210778dacce",
   "metadata": {},
   "outputs": [],
   "source": []
  },
  {
   "cell_type": "markdown",
   "id": "cb32dc93-e91c-4b03-b438-f5ea4d4d37e8",
   "metadata": {},
   "source": [
    "8. Create a loop that goes through the `random_numbers` list. Within the loop, include an if else statement checking:\n",
    "\n",
    "    * If the number is even, print \"A\" (hint: even numbers have a remainder of 0)\n",
    "    * Else if the number is divisible by 3, print \"B\"\n",
    "    * Else print \"C\""
   ]
  },
  {
   "cell_type": "code",
   "execution_count": null,
   "id": "b6b1a92f-7d64-4e27-9d8a-a18c36bcecef",
   "metadata": {},
   "outputs": [],
   "source": []
  },
  {
   "cell_type": "markdown",
   "id": "39f383ac-a119-4ed9-ab20-9aee9ea03eaa",
   "metadata": {},
   "source": [
    "## Variables + Loops"
   ]
  },
  {
   "cell_type": "markdown",
   "id": "d99c9261-6484-4690-9403-94628b1afb7c",
   "metadata": {},
   "source": [
    "We often use variables to keep track of information within loops. A common combination of utilizing variables within loops is for counting purposes. "
   ]
  },
  {
   "cell_type": "code",
   "execution_count": null,
   "id": "7fe6507c-e206-4a6e-9f56-97617de2c178",
   "metadata": {},
   "outputs": [],
   "source": [
    "# check out the following example:\n",
    "\n",
    "x = 5\n",
    "\n",
    "# before the loop\n",
    "print(x)\n",
    "\n",
    "for i in range(5):\n",
    "    x += 1               # same as x = x + 1\n",
    "\n",
    "# after the loop    \n",
    "print(x)"
   ]
  },
  {
   "cell_type": "code",
   "execution_count": null,
   "id": "27b706ed-2e97-4d54-8cca-67656cd11f88",
   "metadata": {},
   "outputs": [],
   "source": [
    "# check out the following example:\n",
    "\n",
    "# initializing counter variable\n",
    "s_count = 0\n",
    "\n",
    "state = 'Mississippi'\n",
    "\n",
    "# loop\n",
    "for i in range(len(state)):\n",
    "    if state[i] == 's':\n",
    "        s_count += 1\n",
    "\n",
    "        \n",
    "print(s_count)"
   ]
  },
  {
   "cell_type": "code",
   "execution_count": null,
   "id": "b60bea5f-2230-47d6-a599-7b65e68ba835",
   "metadata": {},
   "outputs": [],
   "source": [
    "# check out the following example:\n",
    "\n",
    "week_temp = ['45 °F', '43 °F', '45 °F', '45 °F', '49 °F', '45 °F', '46 °F']\n",
    "\n",
    "temp45_count = 0\n",
    "\n",
    "for temp in week_temp:\n",
    "    if temp == '45 °F':\n",
    "        temp45_count += 1\n",
    "\n",
    "print(temp45_count)"
   ]
  },
  {
   "cell_type": "markdown",
   "id": "469814c4-8903-4b5a-8f1f-27ecfc58534d",
   "metadata": {},
   "source": [
    "9. Using your previously made `random_numbers` variable, loop through the the list and check how many numbers are greater than ten. At the end, print that count."
   ]
  },
  {
   "cell_type": "code",
   "execution_count": null,
   "id": "8ef60c0c-79b3-4ef8-891a-a11fa3f4f49a",
   "metadata": {},
   "outputs": [],
   "source": []
  },
  {
   "cell_type": "markdown",
   "id": "42c1d5f9-1e64-4d41-a689-c086dc64ea50",
   "metadata": {},
   "source": [
    "## Nested Loops"
   ]
  },
  {
   "cell_type": "markdown",
   "id": "911ced43-ea23-4ffc-b37f-6fd12adad55a",
   "metadata": {},
   "source": [
    "Lets say we have a list of sentences and we are searching for a specific word. We must use nested loops. Check out the example bellow:"
   ]
  },
  {
   "cell_type": "code",
   "execution_count": null,
   "id": "50f64b7e-3ec3-433a-9802-babae68a04d0",
   "metadata": {},
   "outputs": [],
   "source": [
    "lyrics = ['You used to call me on my cell phone',\n",
    "         'Late night when you need my love',\n",
    "         'Call me on my cell phone',\n",
    "         'Late night when you need my love',\n",
    "         'And I know when that hotline bling',\n",
    "         'That can only mean one thing',\n",
    "         'I know when that hotline bling',\n",
    "         'That can only mean one thing']\n",
    "\n",
    "phone_count = 0\n",
    "\n",
    "for line in lyrics:\n",
    "    split_line = line.split() # splitting up sentence into list of words\n",
    "    for word in split_line:\n",
    "        if word == 'phone':\n",
    "            phone_count += 1\n",
    "            print(line)\n",
    "            print(phone_count)\n",
    "            "
   ]
  },
  {
   "cell_type": "markdown",
   "id": "491ab38b-be7f-4db4-ac1a-3efb0f157d95",
   "metadata": {},
   "source": [
    "10. Recreate the previous example with your favorite song."
   ]
  },
  {
   "cell_type": "code",
   "execution_count": null,
   "id": "4348c092-55e4-40fd-a017-c624030c1743",
   "metadata": {},
   "outputs": [],
   "source": []
  },
  {
   "cell_type": "markdown",
   "id": "61b08ebc-4e3b-4a44-8b81-78fb4c41ae0d",
   "metadata": {},
   "source": [
    "## Twitter Practice"
   ]
  },
  {
   "cell_type": "markdown",
   "id": "3d7709c5-4daa-4242-95be-6008f9429066",
   "metadata": {},
   "source": [
    "### Install and import the \"tweepy\" library of code that gives us twitter functions"
   ]
  },
  {
   "cell_type": "code",
   "execution_count": null,
   "id": "ed97392e-20fb-41d0-aa84-87e0b33873f4",
   "metadata": {},
   "outputs": [],
   "source": [
    "!pip install tweepy \n",
    "import tweepy"
   ]
  },
  {
   "cell_type": "markdown",
   "id": "2aa50e88-77a0-4fa6-88fe-bacbb6f3beee",
   "metadata": {},
   "source": [
    "### Login"
   ]
  },
  {
   "cell_type": "code",
   "execution_count": null,
   "id": "4bb2b554-e7ce-47ea-998b-54e623ea9a1a",
   "metadata": {},
   "outputs": [],
   "source": [
    "# copy in the code from test_twitter_bot_keys.ipynb\n"
   ]
  },
  {
   "cell_type": "markdown",
   "id": "599e2a2b-65db-4b3e-bf74-a7c1af8d773d",
   "metadata": {},
   "source": [
    "11. Search for recent tweets that include the word 'Weather'. Assign this list to a variable called `weather`."
   ]
  },
  {
   "cell_type": "code",
   "execution_count": null,
   "id": "b1d2fff5-ec85-4e00-8a4f-8f1d1baee32a",
   "metadata": {},
   "outputs": [],
   "source": []
  },
  {
   "cell_type": "markdown",
   "id": "828fe03f-ee1f-4d6e-b877-4405975962ab",
   "metadata": {},
   "source": [
    "12. Loop through the `weather` list and count how many times you come across the words \"cold\", \"freezing\", or \"chilly\""
   ]
  },
  {
   "cell_type": "code",
   "execution_count": null,
   "id": "16be5296-9e6a-4a5e-9eae-bcb3c48b13a5",
   "metadata": {},
   "outputs": [],
   "source": []
  },
  {
   "cell_type": "markdown",
   "id": "288b79a1-45d5-445e-81fc-7081ae5fa6a5",
   "metadata": {},
   "source": [
    "13. Create a variable called `long_words` and assign an emepty list to it --> []. \n"
   ]
  },
  {
   "cell_type": "code",
   "execution_count": null,
   "id": "523b2e47-cbc4-4fb4-9508-8bc279c2f53a",
   "metadata": {},
   "outputs": [],
   "source": []
  },
  {
   "cell_type": "markdown",
   "id": "00957a4d-231b-45ff-aa52-97f61a608b19",
   "metadata": {},
   "source": [
    "14. Loop through the `weather` list. If a word has a length of 5 OR GREATER, add it to the `long_words` list. Make sure to return the `long_words` list at the end of your code block.\n",
    "\n",
    "*Hint: you can add to a list using the `append()` function\n",
    "\n",
    "```\n",
    "append() example:\n",
    "\n",
    "list = [1, 2, 3]\n",
    "list.append(4)\n",
    "\n",
    "list  -->  [1, 2, 3, 4]\n",
    "```"
   ]
  },
  {
   "cell_type": "code",
   "execution_count": null,
   "id": "b5caf53d-035f-4dfe-ac0b-07f14ae67b75",
   "metadata": {},
   "outputs": [],
   "source": []
  },
  {
   "cell_type": "markdown",
   "id": "e34198d8-df5c-47d2-b244-f7b60de99565",
   "metadata": {},
   "source": [
    "15. Get the length of your `long_words` list and store it in a variable called `long_words_length`."
   ]
  },
  {
   "cell_type": "code",
   "execution_count": null,
   "id": "cdba889e-ad39-46a2-860f-6f2689f8d76b",
   "metadata": {},
   "outputs": [],
   "source": []
  },
  {
   "cell_type": "markdown",
   "id": "a827b6b7-f4e4-4fb0-964e-b486653ca8e6",
   "metadata": {},
   "source": [
    "16. Create a while loop, printing out the sentence: <b>\"The word, WORD, is extremely long.\"</b> for each word in the `long_words` list.\n",
    "\n",
    "*Hint: use the `long_words_length` variable to check if you've gone through the entire list. With each iteration, subtract 1 from the variable."
   ]
  },
  {
   "cell_type": "code",
   "execution_count": null,
   "id": "d8e67bb1-17f5-46c2-a037-089821eb8712",
   "metadata": {},
   "outputs": [],
   "source": []
  },
  {
   "cell_type": "markdown",
   "id": "adca9318-5276-4f0f-9400-98c7c50feb85",
   "metadata": {},
   "source": [
    "CHALLENGE: Copy and paste the code from the previous question. Alter the code to create the sentence: \n",
    "\n",
    "<b>\"The word, WORD, is LENGTH letters long.\"</b>"
   ]
  },
  {
   "cell_type": "code",
   "execution_count": null,
   "id": "6d5b11db-6101-4864-8c26-89246b66f67b",
   "metadata": {},
   "outputs": [],
   "source": []
  }
 ],
 "metadata": {
  "kernelspec": {
   "display_name": "Python 3 (ipykernel)",
   "language": "python",
   "name": "python3"
  },
  "language_info": {
   "codemirror_mode": {
    "name": "ipython",
    "version": 3
   },
   "file_extension": ".py",
   "mimetype": "text/x-python",
   "name": "python",
   "nbconvert_exporter": "python",
   "pygments_lexer": "ipython3",
   "version": "3.9.7"
  }
 },
 "nbformat": 4,
 "nbformat_minor": 5
}

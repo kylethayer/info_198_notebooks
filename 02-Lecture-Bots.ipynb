{
 "cells": [
  {
   "cell_type": "markdown",
   "id": "d3e7c20d-b299-4362-83de-72c7f85e73a1",
   "metadata": {},
   "source": [
    "# Basic Python Concepts"
   ]
  },
  {
   "cell_type": "markdown",
   "id": "5e2c424c-3ff7-4319-86de-f9bdec2e2ed5",
   "metadata": {},
   "source": [
    "# Install helpful library\n",
    "Before we begin, run the code below to install a helpful library, then refresh your browser tab.\n",
    "\n",
    "Once you've done that, when you right click here, one of the bottom options should be \"Variable Inspector.\" Open that and then drag it to the side to make two divided tabs (as I'll demonstrate). \n"
   ]
  },
  {
   "cell_type": "code",
   "execution_count": null,
   "id": "05961c0e-3f6d-4e6b-9a64-6316c0c692aa",
   "metadata": {
    "tags": []
   },
   "outputs": [],
   "source": [
    "!pip install lckr-jupyterlab-variableinspector"
   ]
  },
  {
   "cell_type": "markdown",
   "id": "ecbc77ca-26bc-46e3-84a9-84c4bb114fe1",
   "metadata": {},
   "source": [
    "## Variables and assignment (single \"=\")\n",
    "Variables are a place in the computer where a piece of information is saved with a particular name.\n",
    "\n",
    "To store something in a variable, put it on the left of a single \"=\" symbol, with the right side of the symbol being the thing (or formula) whose value you want to save in it. For example:\n",
    "\n",
    "```\n",
    "num_days = 3\n",
    "```\n",
    "\n",
    "The code above saves the number 3 into the variable called \"num_days\"\n",
    "\n",
    "Variables can then be referred to by just typing their name. You can even make a formula with their name\n",
    "\n",
    "```\n",
    "num_days * 3\n",
    "```\n",
    "\n",
    "The code above will give the number 9 (3 times the number of days, which was 3)\n",
    "\n",
    "Note: Variable names can't have spaces in them, and can't start with a number"
   ]
  },
  {
   "cell_type": "code",
   "execution_count": null,
   "id": "411c00d7-f69c-44c7-a9e5-6a4eba17d99d",
   "metadata": {},
   "outputs": [],
   "source": [
    "a = 2\n",
    "a"
   ]
  },
  {
   "cell_type": "code",
   "execution_count": null,
   "id": "071ae828-8ad3-4bdc-9dd9-b9f7ae89ec8b",
   "metadata": {},
   "outputs": [],
   "source": [
    "# TODO: More demos: (saving, seeing result, using to save new variable, install the variable viewer thing?)"
   ]
  },
  {
   "cell_type": "markdown",
   "id": "5cec6b7f-03c5-43dd-b277-614e7430f244",
   "metadata": {},
   "source": [
    "## Data types\n",
    "Python automatically handles many different types of data, including:\n",
    "\n",
    "For text:\n",
    "* str - a String of characters\n",
    "\n",
    "For numbers:\n",
    "* int - an integer (whole number)\n",
    "* float - a floating point number (one with decimals)\n",
    "\n",
    "True/False:\n",
    "* bool - a true/false value\n",
    "\n",
    "\n",
    "See more here: https://www.w3schools.com/python/python_datatypes.asp"
   ]
  },
  {
   "cell_type": "code",
   "execution_count": null,
   "id": "f276cbe0-49da-4a34-bde9-d0c6e5710c50",
   "metadata": {},
   "outputs": [],
   "source": [
    "# TODO: Demo data types"
   ]
  },
  {
   "cell_type": "markdown",
   "id": "a0a6cbfb-f8e8-4818-a716-38d9f08919a8",
   "metadata": {},
   "source": [
    "## Calling Functions\n",
    "\n",
    "A function is a named section of pre-written code. \n",
    "\n",
    "Functions can take inputs\n",
    "* Inputs go in parenthese after the function name\n",
    "* These inputs are called \"parameters\" or \"arguments\"\n",
    "* If there are multiple inputs, they are separated by commas\n",
    "* You can also specify which input you are giving within the parenthesis by putting parameter_name=value\n",
    "\n",
    "Functions can also make outputs. \n",
    "* Also called \"returns\" or \"results\"\n",
    "* When the code intepreter sees the function call, it runs the code in the function wiht the inputs, and then puts the output in the place where that function call was\n",
    "* The results of the function can be stored in a variable, used in a formula, or used as an argument for another function"
   ]
  },
  {
   "cell_type": "code",
   "execution_count": null,
   "id": "210867bc-4dbf-45cd-8cc1-aee060665325",
   "metadata": {},
   "outputs": [],
   "source": [
    "# TODO: Demo functions with no returns (display, print, sleep)\n",
    "\n",
    "# TODO: Demo functions with returns (upper, isupper, sqrt, range, type)\n",
    "\n",
    "# TODO: Demo a useful trick with functions (str)\n"
   ]
  },
  {
   "cell_type": "markdown",
   "id": "e0ba5540-5133-416e-a052-b3619d4a6a41",
   "metadata": {},
   "source": [
    "## for loops\n",
    "For loops allow you to repeat an action multiple times.\n",
    "\n",
    "```\n",
    "for loop_value in thing_to_loop_over:\n",
    "    # Put actions to repeat here\n",
    "```\n",
    "\n",
    "For loops have to have something to loop over, which goes after \"in\".\n",
    "* You can use it with the function range to repeat an action a given number of times.\n",
    "* You can use it on a list, though we'll cover that more later.\n",
    "\n",
    "As the loop goes, it saves the current thing it is looking at in the temporary variable you list before the in.\n",
    "\n",
    "The commands you want to repeat need to be tabbed in one more level than the for statement to indicate they go inside the for loop."
   ]
  },
  {
   "cell_type": "code",
   "execution_count": null,
   "id": "782cba83-46f2-4b48-99b9-1c3de9c86e9e",
   "metadata": {
    "tags": []
   },
   "outputs": [],
   "source": [
    "# TODO: Demo some for loops, including the one below\n",
    "\n",
    "for x in range(10):\n",
    "    print(\"<<<<< \" + str(x*4 + 1) + \"/40\")\n",
    "    print(\"^^^^^ \" + str(x*4 + 2) + \"/40\")\n",
    "    print(\">>>>> \" + str(x*4 + 3) + \"/40\")\n",
    "    print(\"vvvvv \" + str(x*4 + 4) + \"/40\")"
   ]
  },
  {
   "cell_type": "markdown",
   "id": "97b0b6eb-404b-4883-8ac6-c6fd64658570",
   "metadata": {},
   "source": [
    "## Dictionary (mapping)\n",
    "Python also lets you have a variable that has multiple named pieces (it's like your variable has its own variables). The type of this is \"dict\"\n",
    "\n",
    "We won't go into details here, but if you have a variable that is type \"dict\", you can access the different components by using a dot. \n",
    "\n",
    "For example, if I have a variable `book` which is a type \"dict\" and it has components `pages` and `author`, I can get the value of the pages and author like this:\n",
    "```\n",
    "book.pages\n",
    "book.author\n",
    "```"
   ]
  },
  {
   "cell_type": "markdown",
   "id": "6d4c7bf9-bf77-4f9e-8eb0-00088d4b9934",
   "metadata": {},
   "source": [
    "## Last lecture's code\n",
    "Now let's look at some of the code from last lecture and see if we understand it better"
   ]
  },
  {
   "cell_type": "code",
   "execution_count": null,
   "id": "0ea89fdc-a383-46c6-b7e3-7b58594d233f",
   "metadata": {},
   "outputs": [],
   "source": [
    "!pip install tweepy\n",
    "import tweepy\n",
    "import bot_keys\n",
    "\n",
    "client = tweepy.Client(consumer_key=bot_keys.consumer_key, consumer_secret=bot_keys.consumer_secret,\n",
    "                       access_token=bot_keys.access_token, access_token_secret=bot_keys.access_token_secret)\n",
    "\n",
    "client.create_tweet(text=\"This is tweet was posted by a computer program!\")\n",
    "\n",
    "for x in range(10):\n",
    "      client.create_tweet(text=\"test Computer program posting tweet \" + str(x))"
   ]
  },
  {
   "cell_type": "code",
   "execution_count": null,
   "id": "0ea3f58f-679f-4a42-8d39-7733dc75f949",
   "metadata": {},
   "outputs": [],
   "source": []
  }
 ],
 "metadata": {
  "kernelspec": {
   "display_name": "Python 3 (ipykernel)",
   "language": "python",
   "name": "python3"
  },
  "language_info": {
   "codemirror_mode": {
    "name": "ipython",
    "version": 3
   },
   "file_extension": ".py",
   "mimetype": "text/x-python",
   "name": "python",
   "nbconvert_exporter": "python",
   "pygments_lexer": "ipython3",
   "version": "3.9.7"
  }
 },
 "nbformat": 4,
 "nbformat_minor": 5
}

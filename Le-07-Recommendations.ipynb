{
 "cells": [
  {
   "cell_type": "markdown",
   "id": "574eeeee-eb48-4af0-9815-6b10faa827a9",
   "metadata": {},
   "source": [
    "# Demos of Functions, Dictionaries, and Recommendations"
   ]
  },
  {
   "cell_type": "markdown",
   "id": "531731d4-1e44-4348-aade-d096aac4d0e1",
   "metadata": {},
   "source": [
    "## Install Variable Inpsector"
   ]
  },
  {
   "cell_type": "code",
   "execution_count": null,
   "id": "bc8fbdbf-4a15-4265-a803-f40854444361",
   "metadata": {
    "tags": []
   },
   "outputs": [],
   "source": [
    "# Install variable inspector (then reload browser tab)\n",
    "!pip install lckr-jupyterlab-variableinspector"
   ]
  },
  {
   "cell_type": "markdown",
   "id": "e9dc0de5-999c-4d6d-8343-8f8a2f546ce9",
   "metadata": {},
   "source": [
    "## Practice Writing Functions\n",
    "Read more here: https://www.w3schools.com/python/python_functions.asp"
   ]
  },
  {
   "cell_type": "code",
   "execution_count": 1,
   "id": "26234103-313c-47ad-9403-0d2010b2a46b",
   "metadata": {},
   "outputs": [],
   "source": [
    "def function_name():\n",
    "  # do various actions, like this:\n",
    "  print(\"This is a function!\")"
   ]
  },
  {
   "cell_type": "code",
   "execution_count": 2,
   "id": "1eb16e5f-37a0-4172-8d2f-bf13b2f71266",
   "metadata": {},
   "outputs": [
    {
     "name": "stdout",
     "output_type": "stream",
     "text": [
      "This is a function!\n"
     ]
    }
   ],
   "source": [
    "function_name()"
   ]
  },
  {
   "cell_type": "code",
   "execution_count": 3,
   "id": "c154c7bb-7a22-43f4-a190-104857f37a98",
   "metadata": {},
   "outputs": [],
   "source": [
    "def say_hello():\n",
    "    print(\"Hello!\")"
   ]
  },
  {
   "cell_type": "code",
   "execution_count": 5,
   "id": "7143cd9f-a4ca-432b-98e8-8c677e1566ce",
   "metadata": {},
   "outputs": [
    {
     "name": "stdout",
     "output_type": "stream",
     "text": [
      "Hello!\n",
      "Hello!\n",
      "Hello!\n",
      "Hello!\n",
      "Hello!\n"
     ]
    }
   ],
   "source": [
    "for x in range(5):\n",
    "    say_hello()"
   ]
  },
  {
   "cell_type": "code",
   "execution_count": 6,
   "id": "dfd96de4-f315-45eb-a2ff-7391f74493ea",
   "metadata": {},
   "outputs": [],
   "source": [
    "def say_hello(name):\n",
    "    print(\"Hello \" + name + \"!\")"
   ]
  },
  {
   "cell_type": "code",
   "execution_count": 7,
   "id": "4fa21a2e-4a98-40f0-82d7-4d85914be0b2",
   "metadata": {},
   "outputs": [
    {
     "name": "stdout",
     "output_type": "stream",
     "text": [
      "Hello Kyle!\n"
     ]
    }
   ],
   "source": [
    "say_hello(\"Kyle\")"
   ]
  },
  {
   "cell_type": "code",
   "execution_count": 8,
   "id": "1a20a1aa-2510-47cd-ae7f-042818bf4efa",
   "metadata": {},
   "outputs": [],
   "source": [
    "def say_hello(name):\n",
    "    if(name == \"Kyle\"):\n",
    "        print(\"I'm not saying hello to you!\")\n",
    "    else:\n",
    "        print(\"Hello \" + name + \"!\")"
   ]
  },
  {
   "cell_type": "code",
   "execution_count": 9,
   "id": "6832aa75-6e2b-46d6-8e64-d7bf2e6050e4",
   "metadata": {},
   "outputs": [
    {
     "name": "stdout",
     "output_type": "stream",
     "text": [
      "Hello Emily!\n"
     ]
    }
   ],
   "source": [
    "say_hello(\"Emily\")"
   ]
  },
  {
   "cell_type": "code",
   "execution_count": 10,
   "id": "37d2a20e-23e0-46ce-b73e-3140598267fb",
   "metadata": {},
   "outputs": [
    {
     "name": "stdout",
     "output_type": "stream",
     "text": [
      "I'm not saying hello to you!\n"
     ]
    }
   ],
   "source": [
    "say_hello(\"Kyle\")"
   ]
  },
  {
   "cell_type": "code",
   "execution_count": 11,
   "id": "a9b6f6ac-6bcb-4dc1-9c80-116c8a604005",
   "metadata": {},
   "outputs": [
    {
     "name": "stdout",
     "output_type": "stream",
     "text": [
      "Hello Fred!\n"
     ]
    }
   ],
   "source": [
    "say_hello(\"Fred\")"
   ]
  },
  {
   "cell_type": "markdown",
   "id": "61edd19c-15f4-4f38-b82f-c38a095f919e",
   "metadata": {},
   "source": [
    "## Practice Using Dictionaries\n",
    "Read more here: https://www.w3schools.com/python/python_dictionaries.asp"
   ]
  },
  {
   "cell_type": "code",
   "execution_count": 12,
   "id": "37d53ecc-51b8-4af0-8e44-e253ca3e5d40",
   "metadata": {},
   "outputs": [],
   "source": [
    "my_info = {\n",
    "    \"first_name\": \"Kyle\",\n",
    "    \"last_name\": \"Thayer\"\n",
    "}"
   ]
  },
  {
   "cell_type": "code",
   "execution_count": 13,
   "id": "d6e2186b-0e1a-45b1-9644-474d04e7e219",
   "metadata": {},
   "outputs": [
    {
     "name": "stdout",
     "output_type": "stream",
     "text": [
      "The full name is: Kyle Thayer\n"
     ]
    }
   ],
   "source": [
    "print(\"The full name is: \" + \n",
    "      my_info[\"first_name\"] + \n",
    "      \" \" + \n",
    "      my_info[\"last_name\"])"
   ]
  },
  {
   "cell_type": "code",
   "execution_count": 14,
   "id": "53c9bf1d-4087-4767-bf3c-49b7e45cee49",
   "metadata": {},
   "outputs": [],
   "source": [
    "my_info[\"age\"] = 38"
   ]
  },
  {
   "cell_type": "code",
   "execution_count": 15,
   "id": "1fe84ca8-3b90-4811-8b07-539110c1190d",
   "metadata": {},
   "outputs": [],
   "source": [
    "favorite_ice_creams = {\n",
    "    \"Kyle\": \"Chocolate Chip Cookie Dough\",\n",
    "    \"Emily\": \"Mint Chocolate Chip\",\n",
    "    \"Sally\": \"Vanilla\",\n",
    "    \"Maria\": \"Chocolate\"\n",
    "}"
   ]
  },
  {
   "cell_type": "code",
   "execution_count": 16,
   "id": "25949736-a313-4f94-bd84-b54a01a67d7a",
   "metadata": {},
   "outputs": [],
   "source": [
    "names = favorite_ice_creams.keys()"
   ]
  },
  {
   "cell_type": "code",
   "execution_count": 17,
   "id": "6a81e0b7-ef90-4e17-b9c2-afabcd22ad6c",
   "metadata": {},
   "outputs": [
    {
     "name": "stdout",
     "output_type": "stream",
     "text": [
      "Kyle likes the ice cream Chocolate Chip Cookie Dough\n",
      "Emily likes the ice cream Mint Chocolate Chip\n",
      "Sally likes the ice cream Vanilla\n",
      "Maria likes the ice cream Chocolate\n"
     ]
    }
   ],
   "source": [
    "for name in names:\n",
    "    favorite_ic = favorite_ice_creams[name]\n",
    "    print(name + \" likes the ice cream \" + favorite_ic)"
   ]
  },
  {
   "cell_type": "markdown",
   "id": "be781d46-7fb8-48cf-9eea-071119069d47",
   "metadata": {},
   "source": [
    "# Recommend new people to follow\n",
    "Resources: \n",
    "* Tweepy documentation (for Twitter API v2): https://docs.tweepy.org/en/stable/client.html\n",
    "* Some examples of how to use Tweepy: https://dev.to/twitterdev/a-comprehensive-guide-for-using-the-twitter-api-v2-using-tweepy-in-python-15d9 \n",
    "\n",
    "## First, set-up"
   ]
  },
  {
   "cell_type": "code",
   "execution_count": 18,
   "id": "9f4e03b6-67ee-4dc8-9b3a-15e7ba244759",
   "metadata": {
    "collapsed": true,
    "jupyter": {
     "outputs_hidden": true
    },
    "tags": []
   },
   "outputs": [
    {
     "name": "stdout",
     "output_type": "stream",
     "text": [
      "Requirement already satisfied: tweepy in /opt/conda/lib/python3.9/site-packages (4.5.0)\n",
      "Requirement already satisfied: requests<3,>=2.27.0 in /opt/conda/lib/python3.9/site-packages (from tweepy) (2.27.1)\n",
      "Requirement already satisfied: requests-oauthlib<2,>=1.0.0 in /opt/conda/lib/python3.9/site-packages (from tweepy) (1.3.1)\n",
      "Requirement already satisfied: certifi>=2017.4.17 in /opt/conda/lib/python3.9/site-packages (from requests<3,>=2.27.0->tweepy) (2021.10.8)\n",
      "Requirement already satisfied: urllib3<1.27,>=1.21.1 in /opt/conda/lib/python3.9/site-packages (from requests<3,>=2.27.0->tweepy) (1.26.7)\n",
      "Requirement already satisfied: charset-normalizer~=2.0.0 in /opt/conda/lib/python3.9/site-packages (from requests<3,>=2.27.0->tweepy) (2.0.0)\n",
      "Requirement already satisfied: idna<4,>=2.5 in /opt/conda/lib/python3.9/site-packages (from requests<3,>=2.27.0->tweepy) (3.1)\n",
      "Requirement already satisfied: oauthlib>=3.0.0 in /opt/conda/lib/python3.9/site-packages (from requests-oauthlib<2,>=1.0.0->tweepy) (3.1.1)\n"
     ]
    }
   ],
   "source": [
    "# make sure tweepy library is installed\n",
    "!pip install tweepy \n",
    "import tweepy"
   ]
  },
  {
   "cell_type": "code",
   "execution_count": 19,
   "id": "3752869c-95bc-4965-a4f8-db380c867419",
   "metadata": {},
   "outputs": [],
   "source": [
    "# load my twitter keys\n",
    "import my_bot_keys"
   ]
  },
  {
   "cell_type": "code",
   "execution_count": 20,
   "id": "b0935b9f-a97f-4175-a940-dd54709ed641",
   "metadata": {},
   "outputs": [],
   "source": [
    "# log into tweepy\n",
    "client = tweepy.Client(\n",
    "    bearer_token=my_bot_keys.bearer_token,\n",
    "    consumer_key=my_bot_keys.consumer_key, consumer_secret=my_bot_keys.consumer_secret,                   \n",
    "    access_token=my_bot_keys.access_token, access_token_secret=my_bot_keys.access_token_secret\n",
    ")"
   ]
  },
  {
   "cell_type": "markdown",
   "id": "69fb3493-6bc5-4d31-aee3-2fd081fe357c",
   "metadata": {},
   "source": [
    "## Write code to recommend new people to follow"
   ]
  },
  {
   "cell_type": "code",
   "execution_count": 27,
   "id": "9c207e3d-f6f7-44e9-88f4-30f19b9ec2f7",
   "metadata": {
    "collapsed": true,
    "jupyter": {
     "outputs_hidden": true
    },
    "tags": []
   },
   "outputs": [
    {
     "name": "stdout",
     "output_type": "stream",
     "text": [
      "looking for followings of user: ChristieMalchow\n",
      "looking for followings of user: alexhihowareyou\n",
      "looking for followings of user: JJHensley\n"
     ]
    },
    {
     "data": {
      "text/plain": [
       "[('SCC_Insight', 2),\n",
       " ('SeattlePD', 2),\n",
       " ('KSeattleWeather', 2),\n",
       " ('GreggBuehler', 1),\n",
       " ('nonpartisansos', 1),\n",
       " ('SnoqualmieGov', 1),\n",
       " ('_Ann_Davison_', 1),\n",
       " ('EricJohnsonKOMO', 1),\n",
       " ('RedistrictingWA', 1),\n",
       " ('electmullet', 1),\n",
       " ('StaceyVandell', 1),\n",
       " ('IssaquahPolice', 1),\n",
       " ('RebbeccaImages', 1),\n",
       " ('Jtodd601', 1),\n",
       " ('WallyBobkiewicz', 1),\n",
       " ('BMWUSA', 1),\n",
       " ('krisvancleave', 1),\n",
       " ('EvanMcMullin', 1),\n",
       " ('PeterSeaTac', 1),\n",
       " ('WAlandusepolicy', 1),\n",
       " ('brad_polumbo', 1),\n",
       " ('PinkPatchPrjct', 1),\n",
       " ('SeattlePF', 1),\n",
       " ('denverhospice', 1),\n",
       " ('sermodigital', 1),\n",
       " ('JoForLiberty', 1),\n",
       " ('simplyseattle', 1),\n",
       " ('Dumbsheat', 1),\n",
       " ('CityofKent', 1),\n",
       " ('PortlandPolice', 1),\n",
       " ('LorenCulp', 1),\n",
       " ('NeighborsForAnn', 1),\n",
       " ('SPOG1952', 1),\n",
       " ('BobPishue', 1),\n",
       " ('BettyBader1', 1),\n",
       " ('KtthTodd', 1),\n",
       " ('WANationalGuard', 1),\n",
       " ('cyrusk', 1),\n",
       " ('IssaquahDaily', 1),\n",
       " ('ArlingtonNatl', 1),\n",
       " ('Super70sSports', 1),\n",
       " ('DJDHode', 1),\n",
       " ('FamilyFatherPNW', 1),\n",
       " ('ESDwaWorks', 1),\n",
       " ('JesseJensenWA', 1),\n",
       " ('JeffPohjola', 1),\n",
       " ('LNanakul', 1),\n",
       " ('marcuslemonis', 1),\n",
       " ('LitaHachey', 1),\n",
       " ('Chase', 1),\n",
       " ('ChaseforBiz', 1),\n",
       " ('RepDaveHayes', 1),\n",
       " ('JacquelinMaycum', 1),\n",
       " ('Ballin25Braun', 1),\n",
       " ('udoka35', 1),\n",
       " ('d_dotson1', 1),\n",
       " ('URDailyHistory', 1),\n",
       " ('KIROTraffic', 1),\n",
       " ('Brooke_Pinkk', 1),\n",
       " ('CDWGWAGov', 1),\n",
       " ('sigmas', 1),\n",
       " ('pnwpolitics', 1),\n",
       " ('bbraabe', 1),\n",
       " ('TheOnion', 1),\n",
       " ('AKB1968', 1),\n",
       " ('WhiskeySipnFool', 1),\n",
       " ('LyndaWilson17LD', 1),\n",
       " ('SammamishLL', 1),\n",
       " ('WACrimeWatch', 1),\n",
       " ('NateNehring', 1),\n",
       " ('joshuaamato', 1),\n",
       " ('PhilipWegmann', 1),\n",
       " ('5bluefrogs', 1),\n",
       " ('realchrisrufo', 1),\n",
       " ('knowthedamfacts', 1),\n",
       " ('ReganBolli', 1),\n",
       " ('wafiremarshal', 1),\n",
       " ('MayorMaryLou', 1),\n",
       " ('AricDiLalla', 1),\n",
       " ('Phil_Fortunato', 1),\n",
       " ('KatieDaviscourt', 1),\n",
       " ('BryanMyrick', 1),\n",
       " ('snoqualmielive', 1),\n",
       " ('danjryan', 1),\n",
       " ('BKDenverSports', 1),\n",
       " ('JoeDineen18', 1),\n",
       " ('alexa99', 1),\n",
       " ('michaelkarlik', 1),\n",
       " ('RyanAFournier', 1),\n",
       " ('SkywayFire', 1),\n",
       " ('GaryWoodland', 1),\n",
       " ('kcroads', 1),\n",
       " ('dog_feelings', 1),\n",
       " ('KatSimsElderkin', 1),\n",
       " ('redmondneighbor', 1),\n",
       " ('GovernorBullock', 1),\n",
       " ('ecoconsumer', 1),\n",
       " ('lewiskamb', 1),\n",
       " ('PooleforMayor', 1),\n",
       " ('nypost', 1),\n",
       " ('RealSaavedra', 1),\n",
       " ('metaralee', 1),\n",
       " ('paigereports_', 1),\n",
       " ('genebalk', 1),\n",
       " ('khloekardashian', 1),\n",
       " ('JackieKentNews', 1),\n",
       " ('janed0nt', 1),\n",
       " ('JakeWiederrich', 1),\n",
       " ('AlexKorenWithAK', 1),\n",
       " ('HomicideSeattle', 1),\n",
       " ('erinfenner', 1),\n",
       " ('Danielhep', 1),\n",
       " ('AprilEhrlich', 1),\n",
       " ('InfoCollegian', 1),\n",
       " ('daeshikjr', 1),\n",
       " ('KTLA', 1),\n",
       " ('prisonjourn', 1),\n",
       " ('JSTOR_Daily', 1),\n",
       " ('linseymarr', 1),\n",
       " ('Clint_Edwards', 1),\n",
       " ('ClimateArena', 1),\n",
       " ('SeattleGayNews', 1),\n",
       " ('UrbanistOrg', 1),\n",
       " ('orcanetwork', 1),\n",
       " ('Kshama_SC', 1),\n",
       " ('Najee_Moye', 1),\n",
       " ('Stop_Sweeps_SEA', 1),\n",
       " ('GrimKim', 1),\n",
       " ('bermanphotos', 1),\n",
       " ('SugaryBulldogs', 1),\n",
       " ('ntkallday', 1),\n",
       " ('GTracyTV', 1),\n",
       " ('Kremwerk', 1),\n",
       " ('lakecitylive', 1),\n",
       " ('DogGoneSeattle', 1),\n",
       " ('JVPSeattle', 1),\n",
       " ('BlairStenvick', 1),\n",
       " ('SoSeaEmerald', 1),\n",
       " ('SeattlePDC1', 1),\n",
       " ('teena_thach', 1),\n",
       " ('DocJeffD', 1),\n",
       " ('NightedLife', 1),\n",
       " ('geraldstratfor3', 1),\n",
       " ('Josie_Ellison', 1),\n",
       " ('LilNasX', 1),\n",
       " ('SecretaryPete', 1),\n",
       " ('amandamull', 1),\n",
       " ('JudyWoodruff', 1),\n",
       " ('NonameBooks', 1),\n",
       " ('AITA_online', 1),\n",
       " ('JoeVeyera', 1),\n",
       " ('gastrognome', 1),\n",
       " ('SeatownNative', 1),\n",
       " ('AmandaBeza', 1),\n",
       " ('UWSurplus', 1),\n",
       " ('RoKhanna', 1),\n",
       " ('RBReich', 1),\n",
       " ('mshannabrooks', 1),\n",
       " ('meena', 1),\n",
       " ('DannyJPeterson', 1),\n",
       " ('UFCW21', 1),\n",
       " ('IssaRae', 1),\n",
       " ('news_chels', 1),\n",
       " ('billyeichner', 1),\n",
       " ('RepStricklandWA', 1),\n",
       " ('TheDailyShow', 1),\n",
       " ('gilbertjasono', 1),\n",
       " ('South2WestNuts', 1),\n",
       " ('MollyJongFast', 1),\n",
       " ('SenSanders', 1),\n",
       " ('Sethrogen', 1),\n",
       " ('City_Arts', 1),\n",
       " ('FemiAbebefe', 1),\n",
       " ('MikeLindblom', 1),\n",
       " ('JenniferJJacobs', 1),\n",
       " ('TacHousing', 1),\n",
       " ('PDocumentarians', 1),\n",
       " ('photogenna', 1),\n",
       " ('MaryLTrump', 1),\n",
       " ('Jim_Brunner', 1),\n",
       " ('tessriski', 1),\n",
       " ('TheNeedling', 1),\n",
       " ('KUOW', 1),\n",
       " ('KCTS9', 1),\n",
       " ('atrupar', 1),\n",
       " ('shanedkavanaugh', 1),\n",
       " ('WWConverge', 1),\n",
       " ('HistoryLink', 1),\n",
       " ('Leah_Sottile', 1),\n",
       " ('ddale8', 1),\n",
       " ('AndyBCampbell', 1),\n",
       " ('ZakirSpeaks', 1),\n",
       " ('katemshepherd', 1),\n",
       " ('BobbyShootsNews', 1),\n",
       " ('gflaccus', 1),\n",
       " ('izziemae', 1),\n",
       " ('tuckwoodstock', 1),\n",
       " ('Dame_Lillard', 1),\n",
       " ('ElizLanders', 1),\n",
       " ('SeattleDistrict', 1),\n",
       " ('SeattleDSA', 1),\n",
       " ('space_needle', 1),\n",
       " ('KIRO7Seattle', 1),\n",
       " ('KING5Seattle', 1),\n",
       " ('SeattleAquarium', 1),\n",
       " ('seattledot', 1),\n",
       " ('PortofSeattle', 1),\n",
       " ('SeattleParks', 1),\n",
       " ('SPLBuzz', 1),\n",
       " ('SeattleMonorail', 1),\n",
       " ('seattleweekly', 1),\n",
       " ('SeattleMet', 1),\n",
       " ('SeattleFire', 1),\n",
       " ('SeattleCouncil', 1),\n",
       " ('MayorofSeattle', 1),\n",
       " ('Seattlemag', 1),\n",
       " ('VisitSeattle', 1),\n",
       " ('CityofSeattle', 1),\n",
       " ('NWSSeattle', 1),\n",
       " ('ZacBoyer', 1),\n",
       " ('ArtButSports', 1),\n",
       " ('theprairiepod', 1),\n",
       " ('80snewsscreens', 1),\n",
       " ('UMO', 1),\n",
       " ('BoardGeniuses', 1),\n",
       " ('geoffschwartz', 1),\n",
       " ('JicJacJohnson', 1),\n",
       " ('pavement_band', 1),\n",
       " ('THPJackson', 1),\n",
       " ('jsdelpilar', 1),\n",
       " ('nocontextkufb', 1),\n",
       " ('arcelitamartin', 1),\n",
       " ('BrittNicx', 1),\n",
       " ('mlb_cc', 1),\n",
       " ('KaceyMusgraves', 1),\n",
       " ('Josh_Insights', 1),\n",
       " ('DiscoverFlux', 1),\n",
       " ('SBuchanan24', 1),\n",
       " ('NoContextKUBB', 1),\n",
       " ('benyarthur', 1),\n",
       " ('holland_tom', 1),\n",
       " ('RuthSevereWx', 1),\n",
       " ('bystellayu', 1),\n",
       " ('TheMuppets', 1),\n",
       " ('JayBilas', 1),\n",
       " ('hoopvision68', 1),\n",
       " ('JoeBiden', 1),\n",
       " ('BaseballandLaw', 1),\n",
       " ('mattsheffield', 1),\n",
       " ('simpsons_vids', 1),\n",
       " ('KPmusik', 1),\n",
       " ('BoratSagdiyev', 1),\n",
       " ('chriswcotner', 1),\n",
       " ('CydHenderson', 1),\n",
       " ('AmroDima', 1),\n",
       " ('sorenpalmer', 1),\n",
       " ('sheridanhoops', 1),\n",
       " ('emmaswiftsings', 1),\n",
       " ('GregForTulsa', 1),\n",
       " ('KansasSOS', 1),\n",
       " ('accommodation87', 1),\n",
       " ('nashpplsbudget', 1),\n",
       " ('Franchycordero', 1),\n",
       " ('JJHensleyauthor', 1),\n",
       " ('kresgefdn', 1),\n",
       " ('flanaznc', 1),\n",
       " ('chrisfallica', 1),\n",
       " ('SubstackInc', 1),\n",
       " ('sharicedavids', 1),\n",
       " ('nflthrowback', 1),\n",
       " ('PessimistsArc', 1),\n",
       " ('ProjectLincoln', 1),\n",
       " ('DanielKimW', 1),\n",
       " ('SimpsonsQOTD', 1),\n",
       " ('chrisjollyhale', 1),\n",
       " ('TDISportsClips', 1),\n",
       " ('ncwhm', 1),\n",
       " ('fristartmuseum', 1),\n",
       " ('CNMnashville', 1),\n",
       " ('2HarvestMidTN', 1),\n",
       " ('CFMT', 1),\n",
       " ('HONashville', 1),\n",
       " ('sopharela', 1),\n",
       " ('stormwatchplus', 1),\n",
       " ('NFL_Memes', 1),\n",
       " ('kenpomeroy', 1),\n",
       " ('OTBaseballPhoto', 1),\n",
       " ('eisingerj', 1),\n",
       " ('MLGW', 1),\n",
       " ('memphisweather1', 1),\n",
       " ('DevonGilfillian', 1),\n",
       " ('IsaacHamlet', 1),\n",
       " ('T_ScottBE', 1),\n",
       " ('AuschwitzMuseum', 1),\n",
       " ('wtfcoach', 1),\n",
       " ('PresVillain', 1),\n",
       " ('SouichiTerada', 1)]"
      ]
     },
     "metadata": {},
     "output_type": "display_data"
    }
   ],
   "source": [
    "# for a given user, I need to user id\n",
    "user_info = client.get_user(username=\"KSeattleWeather\")\n",
    "user_id = user_info.data.id\n",
    "\n",
    "# find the people that user currently follows\n",
    "follow_users = client.get_users_following(id=user_id, max_results=3)\n",
    "\n",
    "# dictionary to track who my follow follows are, as possible suggestions\n",
    "# The keys will be the username, and the values will be how often they\n",
    "# appeared as follow follows\n",
    "possible_suggestion_counts = {}\n",
    "\n",
    "# for each of those people, see who they follow\n",
    "for follow_user in follow_users.data:\n",
    "    print(\"looking for followings of user: \" + follow_user.username)\n",
    "    follow_follow_users = client.get_users_following(id=follow_user.id)\n",
    "    \n",
    "    for follow_follow_user in follow_follow_users.data:\n",
    "        possible_suggestion = follow_follow_user.username\n",
    "        \n",
    "        # If this possible suggestion is not yet in the dictionary,\n",
    "        # add it with a count of one\n",
    "        if possible_suggestion not in possible_suggestion_counts:\n",
    "            possible_suggestion_counts[possible_suggestion] = 1\n",
    "        else: #otherwise, update the count in the dictionary\n",
    "            possible_suggestion_counts[possible_suggestion] += 1\n",
    "            \n",
    "\n",
    "# recommend that I follow the people who those people follow most\n",
    "ordered_suggestions = sorted(possible_suggestion_counts.items(), key=lambda x: -x[1])\n",
    "display(ordered_suggestions)"
   ]
  },
  {
   "cell_type": "markdown",
   "id": "294bde70-04a1-49d3-a65d-c86cd4c2b585",
   "metadata": {},
   "source": [
    "## Now make that code into a function"
   ]
  },
  {
   "cell_type": "code",
   "execution_count": 28,
   "id": "8f1c7c7e-e642-48a0-90aa-3e7dee72d88b",
   "metadata": {},
   "outputs": [],
   "source": [
    "def get_follow_suggestions(username):\n",
    "    # for a given user, I need to user id\n",
    "    user_info = client.get_user(username=username)\n",
    "    user_id = user_info.data.id\n",
    "\n",
    "    # find the people that user currently follows\n",
    "    follow_users = client.get_users_following(id=user_id, max_results=3)\n",
    "\n",
    "    # dictionary to track who my follow follows are, as possible suggestions\n",
    "    # The keys will be the username, and the values will be how often they\n",
    "    # appeared as follow follows\n",
    "    possible_suggestion_counts = {}\n",
    "\n",
    "    # for each of those people, see who they follow\n",
    "    for follow_user in follow_users.data:\n",
    "        print(\"looking for followings of user: \" + follow_user.username)\n",
    "        follow_follow_users = client.get_users_following(id=follow_user.id)\n",
    "\n",
    "        for follow_follow_user in follow_follow_users.data:\n",
    "            possible_suggestion = follow_follow_user.username\n",
    "\n",
    "            # If this possible suggestion is not yet in the dictionary,\n",
    "            # add it with a count of one\n",
    "            if possible_suggestion not in possible_suggestion_counts:\n",
    "                possible_suggestion_counts[possible_suggestion] = 1\n",
    "            else: #otherwise, update the count in the dictionary\n",
    "                possible_suggestion_counts[possible_suggestion] += 1\n",
    "\n",
    "\n",
    "    # recommend that I follow the people who those people follow most\n",
    "    ordered_suggestions = sorted(possible_suggestion_counts.items(), key=lambda x: -x[1])\n",
    "    display(ordered_suggestions)"
   ]
  },
  {
   "cell_type": "markdown",
   "id": "fc10bd2f-f0b3-46a7-bd05-602006b4b3d4",
   "metadata": {},
   "source": [
    "## Use function to see follow recommendations"
   ]
  },
  {
   "cell_type": "code",
   "execution_count": 31,
   "id": "979d4e5d-f791-46f5-98ba-fb73c65e95c3",
   "metadata": {},
   "outputs": [
    {
     "name": "stdout",
     "output_type": "stream",
     "text": [
      "looking for followings of user: uw_ada\n",
      "looking for followings of user: CornickLeslie\n",
      "looking for followings of user: ATI_Talent\n"
     ]
    },
    {
     "ename": "TooManyRequests",
     "evalue": "429 Too Many Requests",
     "output_type": "error",
     "traceback": [
      "\u001b[0;31m---------------------------------------------------------------------------\u001b[0m",
      "\u001b[0;31mTooManyRequests\u001b[0m                           Traceback (most recent call last)",
      "\u001b[0;32m/tmp/ipykernel_334/1942437956.py\u001b[0m in \u001b[0;36m<module>\u001b[0;34m\u001b[0m\n\u001b[0;32m----> 1\u001b[0;31m \u001b[0mget_follow_suggestions\u001b[0m\u001b[0;34m(\u001b[0m\u001b[0;34m\"UW\"\u001b[0m\u001b[0;34m)\u001b[0m\u001b[0;34m\u001b[0m\u001b[0;34m\u001b[0m\u001b[0m\n\u001b[0m",
      "\u001b[0;32m/tmp/ipykernel_334/4104094656.py\u001b[0m in \u001b[0;36mget_follow_suggestions\u001b[0;34m(username)\u001b[0m\n\u001b[1;32m     15\u001b[0m     \u001b[0;32mfor\u001b[0m \u001b[0mfollow_user\u001b[0m \u001b[0;32min\u001b[0m \u001b[0mfollow_users\u001b[0m\u001b[0;34m.\u001b[0m\u001b[0mdata\u001b[0m\u001b[0;34m:\u001b[0m\u001b[0;34m\u001b[0m\u001b[0;34m\u001b[0m\u001b[0m\n\u001b[1;32m     16\u001b[0m         \u001b[0mprint\u001b[0m\u001b[0;34m(\u001b[0m\u001b[0;34m\"looking for followings of user: \"\u001b[0m \u001b[0;34m+\u001b[0m \u001b[0mfollow_user\u001b[0m\u001b[0;34m.\u001b[0m\u001b[0musername\u001b[0m\u001b[0;34m)\u001b[0m\u001b[0;34m\u001b[0m\u001b[0;34m\u001b[0m\u001b[0m\n\u001b[0;32m---> 17\u001b[0;31m         \u001b[0mfollow_follow_users\u001b[0m \u001b[0;34m=\u001b[0m \u001b[0mclient\u001b[0m\u001b[0;34m.\u001b[0m\u001b[0mget_users_following\u001b[0m\u001b[0;34m(\u001b[0m\u001b[0mid\u001b[0m\u001b[0;34m=\u001b[0m\u001b[0mfollow_user\u001b[0m\u001b[0;34m.\u001b[0m\u001b[0mid\u001b[0m\u001b[0;34m)\u001b[0m\u001b[0;34m\u001b[0m\u001b[0;34m\u001b[0m\u001b[0m\n\u001b[0m\u001b[1;32m     18\u001b[0m \u001b[0;34m\u001b[0m\u001b[0m\n\u001b[1;32m     19\u001b[0m         \u001b[0;32mfor\u001b[0m \u001b[0mfollow_follow_user\u001b[0m \u001b[0;32min\u001b[0m \u001b[0mfollow_follow_users\u001b[0m\u001b[0;34m.\u001b[0m\u001b[0mdata\u001b[0m\u001b[0;34m:\u001b[0m\u001b[0;34m\u001b[0m\u001b[0;34m\u001b[0m\u001b[0m\n",
      "\u001b[0;32m/opt/conda/lib/python3.9/site-packages/tweepy/client.py\u001b[0m in \u001b[0;36mget_users_following\u001b[0;34m(self, id, user_auth, **params)\u001b[0m\n\u001b[1;32m   1536\u001b[0m         \u001b[0mhttps\u001b[0m\u001b[0;34m:\u001b[0m\u001b[0;34m//\u001b[0m\u001b[0mdeveloper\u001b[0m\u001b[0;34m.\u001b[0m\u001b[0mtwitter\u001b[0m\u001b[0;34m.\u001b[0m\u001b[0mcom\u001b[0m\u001b[0;34m/\u001b[0m\u001b[0men\u001b[0m\u001b[0;34m/\u001b[0m\u001b[0mdocs\u001b[0m\u001b[0;34m/\u001b[0m\u001b[0mtwitter\u001b[0m\u001b[0;34m-\u001b[0m\u001b[0mapi\u001b[0m\u001b[0;34m/\u001b[0m\u001b[0musers\u001b[0m\u001b[0;34m/\u001b[0m\u001b[0mfollows\u001b[0m\u001b[0;34m/\u001b[0m\u001b[0mapi\u001b[0m\u001b[0;34m-\u001b[0m\u001b[0mreference\u001b[0m\u001b[0;34m/\u001b[0m\u001b[0mget\u001b[0m\u001b[0;34m-\u001b[0m\u001b[0musers\u001b[0m\u001b[0;34m-\u001b[0m\u001b[0mid\u001b[0m\u001b[0;34m-\u001b[0m\u001b[0mfollowing\u001b[0m\u001b[0;34m\u001b[0m\u001b[0;34m\u001b[0m\u001b[0m\n\u001b[1;32m   1537\u001b[0m         \"\"\"\n\u001b[0;32m-> 1538\u001b[0;31m         return self._make_request(\n\u001b[0m\u001b[1;32m   1539\u001b[0m             \u001b[0;34m\"GET\"\u001b[0m\u001b[0;34m,\u001b[0m \u001b[0;34mf\"/2/users/{id}/following\"\u001b[0m\u001b[0;34m,\u001b[0m \u001b[0mparams\u001b[0m\u001b[0;34m=\u001b[0m\u001b[0mparams\u001b[0m\u001b[0;34m,\u001b[0m\u001b[0;34m\u001b[0m\u001b[0;34m\u001b[0m\u001b[0m\n\u001b[1;32m   1540\u001b[0m             endpoint_parameters=(\n",
      "\u001b[0;32m/opt/conda/lib/python3.9/site-packages/tweepy/client.py\u001b[0m in \u001b[0;36m_make_request\u001b[0;34m(self, method, route, params, endpoint_parameters, json, data_type, user_auth)\u001b[0m\n\u001b[1;32m    166\u001b[0m                 \u001b[0mlog\u001b[0m\u001b[0;34m.\u001b[0m\u001b[0mwarn\u001b[0m\u001b[0;34m(\u001b[0m\u001b[0;34mf\"Unexpected parameter: {param_name}\"\u001b[0m\u001b[0;34m)\u001b[0m\u001b[0;34m\u001b[0m\u001b[0;34m\u001b[0m\u001b[0m\n\u001b[1;32m    167\u001b[0m \u001b[0;34m\u001b[0m\u001b[0m\n\u001b[0;32m--> 168\u001b[0;31m         response = self.request(method, route, params=request_params,\n\u001b[0m\u001b[1;32m    169\u001b[0m                                 json=json, user_auth=user_auth)\n\u001b[1;32m    170\u001b[0m \u001b[0;34m\u001b[0m\u001b[0m\n",
      "\u001b[0;32m/opt/conda/lib/python3.9/site-packages/tweepy/client.py\u001b[0m in \u001b[0;36mrequest\u001b[0;34m(self, method, route, params, json, user_auth)\u001b[0m\n\u001b[1;32m    136\u001b[0m                     \u001b[0;32mreturn\u001b[0m \u001b[0mself\u001b[0m\u001b[0;34m.\u001b[0m\u001b[0mrequest\u001b[0m\u001b[0;34m(\u001b[0m\u001b[0mmethod\u001b[0m\u001b[0;34m,\u001b[0m \u001b[0mroute\u001b[0m\u001b[0;34m,\u001b[0m \u001b[0mparams\u001b[0m\u001b[0;34m,\u001b[0m \u001b[0mjson\u001b[0m\u001b[0;34m,\u001b[0m \u001b[0muser_auth\u001b[0m\u001b[0;34m)\u001b[0m\u001b[0;34m\u001b[0m\u001b[0;34m\u001b[0m\u001b[0m\n\u001b[1;32m    137\u001b[0m                 \u001b[0;32melse\u001b[0m\u001b[0;34m:\u001b[0m\u001b[0;34m\u001b[0m\u001b[0;34m\u001b[0m\u001b[0m\n\u001b[0;32m--> 138\u001b[0;31m                     \u001b[0;32mraise\u001b[0m \u001b[0mTooManyRequests\u001b[0m\u001b[0;34m(\u001b[0m\u001b[0mresponse\u001b[0m\u001b[0;34m)\u001b[0m\u001b[0;34m\u001b[0m\u001b[0;34m\u001b[0m\u001b[0m\n\u001b[0m\u001b[1;32m    139\u001b[0m             \u001b[0;32mif\u001b[0m \u001b[0mresponse\u001b[0m\u001b[0;34m.\u001b[0m\u001b[0mstatus_code\u001b[0m \u001b[0;34m>=\u001b[0m \u001b[0;36m500\u001b[0m\u001b[0;34m:\u001b[0m\u001b[0;34m\u001b[0m\u001b[0;34m\u001b[0m\u001b[0m\n\u001b[1;32m    140\u001b[0m                 \u001b[0;32mraise\u001b[0m \u001b[0mTwitterServerError\u001b[0m\u001b[0;34m(\u001b[0m\u001b[0mresponse\u001b[0m\u001b[0;34m)\u001b[0m\u001b[0;34m\u001b[0m\u001b[0;34m\u001b[0m\u001b[0m\n",
      "\u001b[0;31mTooManyRequests\u001b[0m: 429 Too Many Requests"
     ]
    }
   ],
   "source": [
    "get_follow_suggestions(\"UW\")"
   ]
  },
  {
   "cell_type": "code",
   "execution_count": null,
   "id": "50d7fb67-a970-4e7a-a722-6062201ee44c",
   "metadata": {},
   "outputs": [],
   "source": []
  }
 ],
 "metadata": {
  "kernelspec": {
   "display_name": "Python 3 (ipykernel)",
   "language": "python",
   "name": "python3"
  },
  "language_info": {
   "codemirror_mode": {
    "name": "ipython",
    "version": 3
   },
   "file_extension": ".py",
   "mimetype": "text/x-python",
   "name": "python",
   "nbconvert_exporter": "python",
   "pygments_lexer": "ipython3",
   "version": "3.9.7"
  }
 },
 "nbformat": 4,
 "nbformat_minor": 5
}

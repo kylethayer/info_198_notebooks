{
 "cells": [
  {
   "cell_type": "markdown",
   "id": "485c4462-5cf7-4524-8f57-874e8eb6209d",
   "metadata": {},
   "source": [
    "# Sentiment Analysis Demo"
   ]
  },
  {
   "cell_type": "markdown",
   "id": "ae27cd44-3897-4154-b7a1-a5a807bf92c7",
   "metadata": {},
   "source": [
    "### Standard loading"
   ]
  },
  {
   "cell_type": "code",
   "execution_count": null,
   "id": "10378be7-8ffa-4cf2-8557-ec6f59399d48",
   "metadata": {},
   "outputs": [],
   "source": [
    "# Install variable inspector (then reload browser tab)\n",
    "!pip install lckr-jupyterlab-variableinspector"
   ]
  },
  {
   "cell_type": "code",
   "execution_count": 7,
   "id": "0d45a981-86cd-41f0-bc0a-066afdc985b4",
   "metadata": {
    "tags": []
   },
   "outputs": [
    {
     "name": "stdout",
     "output_type": "stream",
     "text": [
      "Requirement already satisfied: tweepy in /opt/conda/lib/python3.9/site-packages (4.5.0)\n",
      "Requirement already satisfied: requests-oauthlib<2,>=1.0.0 in /opt/conda/lib/python3.9/site-packages (from tweepy) (1.3.1)\n",
      "Requirement already satisfied: requests<3,>=2.27.0 in /opt/conda/lib/python3.9/site-packages (from tweepy) (2.27.1)\n",
      "Requirement already satisfied: certifi>=2017.4.17 in /opt/conda/lib/python3.9/site-packages (from requests<3,>=2.27.0->tweepy) (2021.10.8)\n",
      "Requirement already satisfied: idna<4,>=2.5 in /opt/conda/lib/python3.9/site-packages (from requests<3,>=2.27.0->tweepy) (3.1)\n",
      "Requirement already satisfied: urllib3<1.27,>=1.21.1 in /opt/conda/lib/python3.9/site-packages (from requests<3,>=2.27.0->tweepy) (1.26.7)\n",
      "Requirement already satisfied: charset-normalizer~=2.0.0 in /opt/conda/lib/python3.9/site-packages (from requests<3,>=2.27.0->tweepy) (2.0.0)\n",
      "Requirement already satisfied: oauthlib>=3.0.0 in /opt/conda/lib/python3.9/site-packages (from requests-oauthlib<2,>=1.0.0->tweepy) (3.1.1)\n"
     ]
    }
   ],
   "source": [
    "# make sure tweepy library is installed\n",
    "!pip install tweepy \n",
    "import tweepy"
   ]
  },
  {
   "cell_type": "code",
   "execution_count": 8,
   "id": "72567e4d-e517-43f1-a949-49fb29120ddf",
   "metadata": {},
   "outputs": [],
   "source": [
    "# load my twitter keys\n",
    "import my_bot_keys"
   ]
  },
  {
   "cell_type": "code",
   "execution_count": 9,
   "id": "94c2d5da-d971-454a-aebf-3ed64e286b01",
   "metadata": {},
   "outputs": [],
   "source": [
    "# log into tweepy\n",
    "client = tweepy.Client(\n",
    "    bearer_token=my_bot_keys.bearer_token,\n",
    "    consumer_key=my_bot_keys.consumer_key, consumer_secret=my_bot_keys.consumer_secret,                   \n",
    "    access_token=my_bot_keys.access_token, access_token_secret=my_bot_keys.access_token_secret\n",
    ")"
   ]
  },
  {
   "cell_type": "markdown",
   "id": "a72f67fc-09df-446f-8956-b1f28fd3d0bd",
   "metadata": {},
   "source": [
    "### Load Sentiment Analysis Library"
   ]
  },
  {
   "cell_type": "code",
   "execution_count": 5,
   "id": "a476b639-df99-4737-83f8-a37fb3654b50",
   "metadata": {
    "tags": []
   },
   "outputs": [
    {
     "name": "stderr",
     "output_type": "stream",
     "text": [
      "[nltk_data] Downloading package vader_lexicon to\n",
      "[nltk_data]     /home/jovyan/nltk_data...\n",
      "[nltk_data]   Package vader_lexicon is already up-to-date!\n"
     ]
    },
    {
     "data": {
      "text/plain": [
       "True"
      ]
     },
     "execution_count": 5,
     "metadata": {},
     "output_type": "execute_result"
    }
   ],
   "source": [
    "import nltk\n",
    "nltk.download([\"vader_lexicon\"])"
   ]
  },
  {
   "cell_type": "code",
   "execution_count": null,
   "id": "212f73a7-53ac-4a09-925f-434c5cf6db97",
   "metadata": {},
   "outputs": [],
   "source": [
    "from nltk.sentiment import SentimentIntensityAnalyzer\n",
    "sia = SentimentIntensityAnalyzer()"
   ]
  },
  {
   "cell_type": "markdown",
   "id": "549b8cd4-61a6-42b3-ad32-7dff878ddc9c",
   "metadata": {},
   "source": [
    "## Test Sentiment Analysis"
   ]
  },
  {
   "cell_type": "code",
   "execution_count": 11,
   "id": "eb9a23e5-9cfa-4a53-9cfa-470beb6a4171",
   "metadata": {},
   "outputs": [
    {
     "data": {
      "text/plain": [
       "{'neg': 0.645, 'neu': 0.355, 'pos': 0.0, 'compound': -0.7535}"
      ]
     },
     "execution_count": 11,
     "metadata": {},
     "output_type": "execute_result"
    }
   ],
   "source": [
    "sia.polarity_scores(\"I really, really hate pizza!!!!!!!!\")"
   ]
  },
  {
   "cell_type": "code",
   "execution_count": 38,
   "id": "ec912f23-54af-44ce-86b7-3f445bad5fdf",
   "metadata": {},
   "outputs": [],
   "source": [
    "def get_sentiment_of_text(text):\n",
    "    tweet_sentiment = sia.polarity_scores(text)\n",
    "    tweet_compound_sentiment = tweet_sentiment['compound']\n",
    "    return tweet_compound_sentiment\n",
    "\n",
    "def get_sentiment(query, show_progress=False, max_results=10):\n",
    "    tweets = client.search_recent_tweets(query=query, max_results=max_results)\n",
    "\n",
    "    num_tweets = 0\n",
    "    total_sentiment = 0\n",
    "\n",
    "    # go through each tweet\n",
    "    for tweet in tweets.data:\n",
    "        if show_progress: \n",
    "            print(tweet.text)\n",
    "\n",
    "        #calculate sentiment\n",
    "        tweet_compound_sentiment = get_sentiment_of_text(tweet.text)\n",
    "\n",
    "        if show_progress:\n",
    "            print(tweet_compound_sentiment)\n",
    "\n",
    "        num_tweets += 1\n",
    "        total_sentiment += tweet_compound_sentiment\n",
    "\n",
    "        if show_progress:\n",
    "            print()\n",
    "\n",
    "    if show_progress:\n",
    "        print(\"num tweets: \" + str(num_tweets))\n",
    "        print(\"total_sentiment: \" + str(total_sentiment))\n",
    "        print(\"avg_sentiment: \" + str(total_sentiment / num_tweets))\n",
    "    \n",
    "    return total_sentiment / num_tweets"
   ]
  },
  {
   "cell_type": "code",
   "execution_count": 39,
   "id": "14664acc-beb4-467b-b6b2-33c9d88d6e08",
   "metadata": {},
   "outputs": [
    {
     "name": "stdout",
     "output_type": "stream",
     "text": [
      "@Barsalev @ItsManuedu_44 Yea dembele getting the ball to haaland at 20th try after over hitting the pass or making the wrong decision half the time...dembele can't play at a club where u have to actually play football not just run\n",
      "-0.7329\n",
      "\n",
      "@C99Cody1 Never seen that in all my time watching &amp; playing football 🤷‍♂️🤷‍♂️\n",
      "0.2023\n",
      "\n",
      "RT @Bolick4Arizona: Hey @ASU @michaelcrow why are you mandating N95 masks for ASU college students interested in playing on the intramural…\n",
      "0.5423\n",
      "\n",
      "日本代表MF南野拓実、リバプールでの目標を語る「ここで何かを成し遂げたい」\n",
      "\n",
      "日本代表MF南野拓実（27）が、所属するリバプールでの目標を語っている。イギリス『リバプール・エコー』が伝えた。2020年冬にレッドブル・ザルツブ... #リバプール\n",
      "https://t.co/VmRXd8qknU https://t.co/X8uQ6fjYci\n",
      "0.0\n",
      "\n",
      "RT @CherifSadio: Au Sénégal se trouve l’une des plus belles infrastructures sportives en Afrique, le tout nouveau stade construit à Diamnia…\n",
      "-0.128\n",
      "\n",
      "https://t.co/G27lDuojxm\n",
      "0.0\n",
      "\n",
      "RT @FMBrownsSons: Are You Ready for Some ....Soup? We had a Soup-er Bowl Party yesterday to pre-game for the big game. What your favorite b…\n",
      "0.802\n",
      "\n",
      "“i don’t know the football team — not like you do. and i have been to cheer practice so i’m probably kicked off … again.” she chuckled, leaning against the lockers. https://t.co/A0d2l2e28j\n",
      "0.5252\n",
      "\n",
      "RT @Brett_McMurphy: 2022 power ratings from @_Collin1 \n",
      "\n",
      "1-OhioSt\n",
      "2-Bama\n",
      "3-Clemson\n",
      "4-NCSt\n",
      "5-Georgia\n",
      "6-Miami\n",
      "7-Utah\n",
      "8-Pitt\n",
      "9-BYU\n",
      "10-A&amp;M\n",
      "11-Io…\n",
      "0.0\n",
      "\n",
      "RT @Sports_Spectrum: Without my Lord and Savior Jesus Christ, I am nothing honestly.\"\n",
      "\n",
      "@RamsNFL DB Jalen Ramsey shares how his worth is fou…\n",
      "0.4767\n",
      "\n",
      "num tweets: 10\n",
      "total_sentiment: 1.6876000000000002\n",
      "avg_sentiment: 0.16876000000000002\n"
     ]
    },
    {
     "data": {
      "text/plain": [
       "0.16876000000000002"
      ]
     },
     "execution_count": 39,
     "metadata": {},
     "output_type": "execute_result"
    }
   ],
   "source": [
    "get_sentiment(\"football\", max_results=10, show_progress=True)"
   ]
  },
  {
   "cell_type": "code",
   "execution_count": 28,
   "id": "096bf741-2a4d-43b3-9abf-2be177698b21",
   "metadata": {},
   "outputs": [
    {
     "data": {
      "text/plain": [
       "-0.04159500000000001"
      ]
     },
     "execution_count": 28,
     "metadata": {},
     "output_type": "execute_result"
    }
   ],
   "source": [
    "get_sentiment(\"Biden\", max_results=100)"
   ]
  },
  {
   "cell_type": "code",
   "execution_count": 29,
   "id": "1ba05e13-76b1-4408-ae07-00b6ef4a9137",
   "metadata": {},
   "outputs": [
    {
     "data": {
      "text/plain": [
       "0.04078700000000001"
      ]
     },
     "execution_count": 29,
     "metadata": {},
     "output_type": "execute_result"
    }
   ],
   "source": [
    "get_sentiment(\"Trump\", max_results=100)"
   ]
  },
  {
   "cell_type": "code",
   "execution_count": 30,
   "id": "6711c341-b593-4d79-9e72-4bde67885fd8",
   "metadata": {},
   "outputs": [
    {
     "data": {
      "text/plain": [
       "-0.03261199999999999"
      ]
     },
     "execution_count": 30,
     "metadata": {},
     "output_type": "execute_result"
    }
   ],
   "source": [
    "get_sentiment(\"Mitch McConnell\", max_results=100)"
   ]
  },
  {
   "cell_type": "code",
   "execution_count": 31,
   "id": "59b46c40-f9b5-47ac-8c28-f4ba1e3ff323",
   "metadata": {},
   "outputs": [
    {
     "data": {
      "text/plain": [
       "-0.012030000000000008"
      ]
     },
     "execution_count": 31,
     "metadata": {},
     "output_type": "execute_result"
    }
   ],
   "source": [
    "get_sentiment(\"AOC\", max_results=100)"
   ]
  },
  {
   "cell_type": "code",
   "execution_count": 33,
   "id": "5efb0708-7f86-44ca-ae70-cdfc57f40cc2",
   "metadata": {},
   "outputs": [
    {
     "data": {
      "text/plain": [
       "-0.012407999999999997"
      ]
     },
     "execution_count": 33,
     "metadata": {},
     "output_type": "execute_result"
    }
   ],
   "source": [
    "get_sentiment(\"Harvard\", max_results=100)"
   ]
  },
  {
   "cell_type": "code",
   "execution_count": null,
   "id": "fca01750-b040-40fd-981a-ac5f714dd9f3",
   "metadata": {
    "tags": []
   },
   "outputs": [],
   "source": [
    "get_sentiment(\"UW\", max_results=100, show_progress=True)"
   ]
  },
  {
   "cell_type": "code",
   "execution_count": 35,
   "id": "2d4f9e58-6114-449c-b26c-e592e7fbee40",
   "metadata": {},
   "outputs": [
    {
     "data": {
      "text/plain": [
       "0.17231499999999994"
      ]
     },
     "execution_count": 35,
     "metadata": {},
     "output_type": "execute_result"
    }
   ],
   "source": [
    "get_sentiment(\"University of Washington\", max_results=100)"
   ]
  },
  {
   "cell_type": "code",
   "execution_count": 40,
   "id": "6762d517-3c13-4160-8199-e06e694e363e",
   "metadata": {},
   "outputs": [
    {
     "data": {
      "text/plain": [
       "0.29996999999999996"
      ]
     },
     "execution_count": 40,
     "metadata": {},
     "output_type": "execute_result"
    }
   ],
   "source": [
    "get_sentiment(\"@UW\", max_results=100)"
   ]
  },
  {
   "cell_type": "code",
   "execution_count": null,
   "id": "6f881076-5605-4ed2-841f-022011c4f983",
   "metadata": {},
   "outputs": [],
   "source": []
  }
 ],
 "metadata": {
  "kernelspec": {
   "display_name": "Python 3 (ipykernel)",
   "language": "python",
   "name": "python3"
  },
  "language_info": {
   "codemirror_mode": {
    "name": "ipython",
    "version": 3
   },
   "file_extension": ".py",
   "mimetype": "text/x-python",
   "name": "python",
   "nbconvert_exporter": "python",
   "pygments_lexer": "ipython3",
   "version": "3.9.7"
  }
 },
 "nbformat": 4,
 "nbformat_minor": 5
}

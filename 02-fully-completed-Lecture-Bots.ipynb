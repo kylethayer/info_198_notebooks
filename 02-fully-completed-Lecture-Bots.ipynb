{
 "cells": [
  {
   "cell_type": "markdown",
   "id": "d3e7c20d-b299-4362-83de-72c7f85e73a1",
   "metadata": {},
   "source": [
    "# Basic Python Concepts"
   ]
  },
  {
   "cell_type": "markdown",
   "id": "31a21422-0878-4b06-a1aa-c15c1bda6ec8",
   "metadata": {},
   "source": [
    "Programming languages work like other languages, you combine pieces together according to specific rules in order to create meaning.\n",
    "\n",
    "\n",
    "I was at UW (University of Washington, Seattle), the other day.\n",
    "\n"
   ]
  },
  {
   "cell_type": "markdown",
   "id": "5e2c424c-3ff7-4319-86de-f9bdec2e2ed5",
   "metadata": {},
   "source": [
    "# Install helpful library\n",
    "Before we begin, run the code below to install a helpful library, then refresh your browser tab.\n",
    "\n",
    "Once you've done that, when you right click here, one of the bottom options should be \"Variable Inspector.\" Open that and then drag it to the side to make two divided tabs (as I'll demonstrate). \n"
   ]
  },
  {
   "cell_type": "code",
   "execution_count": null,
   "id": "05961c0e-3f6d-4e6b-9a64-6316c0c692aa",
   "metadata": {
    "tags": []
   },
   "outputs": [],
   "source": [
    "!pip install lckr-jupyterlab-variableinspector"
   ]
  },
  {
   "cell_type": "markdown",
   "id": "ecbc77ca-26bc-46e3-84a9-84c4bb114fe1",
   "metadata": {},
   "source": [
    "## Variables and assignment (single \"=\")\n",
    "Variables are a place in the computer where a piece of information is saved with a particular name.\n",
    "\n",
    "To store something in a variable, put it on the left of a single \"=\" symbol, with the right side of the symbol being the thing (or formula) whose value you want to save in it. For example:\n",
    "\n",
    "```\n",
    "num_days = 3\n",
    "```\n",
    "\n",
    "The code above saves the number 3 into the variable called \"num_days\"\n",
    "\n",
    "Variables can then be referred to by just typing their name. You can even make a formula with their name\n",
    "\n",
    "```\n",
    "num_days * 3\n",
    "```\n",
    "\n",
    "The code above will give the number 9 (3 times the number of days, which was 3)\n",
    "\n",
    "Note: Variable names can't have spaces in them, and can't start with a number"
   ]
  },
  {
   "cell_type": "code",
   "execution_count": null,
   "id": "411c00d7-f69c-44c7-a9e5-6a4eba17d99d",
   "metadata": {},
   "outputs": [],
   "source": [
    "num_days = 3\n",
    "num_days * 3"
   ]
  },
  {
   "cell_type": "code",
   "execution_count": 3,
   "id": "071ae828-8ad3-4bdc-9dd9-b9f7ae89ec8b",
   "metadata": {},
   "outputs": [],
   "source": [
    "# TODO: More demos: (saving, seeing result, using to save new variable)\n",
    "years = 3\n",
    "days = years * 365\n",
    "hours = days * 24\n",
    "minutes = hours * 60"
   ]
  },
  {
   "cell_type": "code",
   "execution_count": 4,
   "id": "60579d28-0580-4343-97d1-2df9a8d6e111",
   "metadata": {},
   "outputs": [],
   "source": [
    "# try updating years\n",
    "years = 4\n",
    "# it doesn't update previous variables \n",
    "# that were made based on years"
   ]
  },
  {
   "cell_type": "code",
   "execution_count": 7,
   "id": "aa173dc6-25d4-4f8d-96f9-fc4f587444bc",
   "metadata": {},
   "outputs": [],
   "source": [
    "years = years + 1"
   ]
  },
  {
   "cell_type": "code",
   "execution_count": null,
   "id": "a86dc15a-9d57-4ced-ae7e-0eae719b6e30",
   "metadata": {},
   "outputs": [],
   "source": [
    "minutes"
   ]
  },
  {
   "cell_type": "markdown",
   "id": "5cec6b7f-03c5-43dd-b277-614e7430f244",
   "metadata": {},
   "source": [
    "## Data types\n",
    "Python automatically handles many different types of data, including:\n",
    "\n",
    "For text:\n",
    "* str - a String of characters\n",
    "\n",
    "For numbers:\n",
    "* int - an integer (whole number)\n",
    "* float - a floating point number (one with decimals)\n",
    "\n",
    "True/False:\n",
    "* bool - a true/false value\n",
    "\n",
    "\n",
    "See more here: https://www.w3schools.com/python/python_datatypes.asp"
   ]
  },
  {
   "cell_type": "code",
   "execution_count": 8,
   "id": "f276cbe0-49da-4a34-bde9-d0c6e5710c50",
   "metadata": {},
   "outputs": [],
   "source": [
    "# TODO: Demo data types\n",
    "message = \"Hello World!\"\n",
    "my_name = \"Kyle\"\n",
    "\n",
    "pi = 3.141592653\n",
    "\n",
    "is_kyle_at_home = True\n",
    "is_kyle_at_uw_now = False"
   ]
  },
  {
   "cell_type": "markdown",
   "id": "a0a6cbfb-f8e8-4818-a716-38d9f08919a8",
   "metadata": {},
   "source": [
    "## Calling Functions\n",
    "\n",
    "A function is a named section of pre-written code. \n",
    "\n",
    "Functions can take inputs\n",
    "* Inputs go in parenthese after the function name\n",
    "* These inputs are called \"parameters\" or \"arguments\"\n",
    "* If there are multiple inputs, they are separated by commas\n",
    "* You can also specify which input you are giving within the parenthesis by putting parameter_name=value\n",
    "\n",
    "Functions can also make outputs. \n",
    "* Also called \"returns\" or \"results\"\n",
    "* When the code intepreter sees the function call, it runs the code in the function wiht the inputs, and then puts the output in the place where that function call was\n",
    "* The results of the function can be stored in a variable, used in a formula, or used as an argument for another function"
   ]
  },
  {
   "cell_type": "code",
   "execution_count": 9,
   "id": "210867bc-4dbf-45cd-8cc1-aee060665325",
   "metadata": {},
   "outputs": [
    {
     "data": {
      "text/plain": [
       "'Hello World!'"
      ]
     },
     "metadata": {},
     "output_type": "display_data"
    },
    {
     "data": {
      "text/plain": [
       "3"
      ]
     },
     "metadata": {},
     "output_type": "display_data"
    },
    {
     "data": {
      "text/plain": [
       "6.283185306"
      ]
     },
     "metadata": {},
     "output_type": "display_data"
    },
    {
     "name": "stdout",
     "output_type": "stream",
     "text": [
      "Hello World!\n"
     ]
    }
   ],
   "source": [
    "# I need to load the time library in order to use sleep\n",
    "import time\n",
    "\n",
    "# TODO: Demo functions with no returns (display, print, sleep)\n",
    "display(message)\n",
    "\n",
    "time.sleep(2)\n",
    "\n",
    "display(3)\n",
    "\n",
    "time.sleep(5)\n",
    "\n",
    "display(pi * 2)\n",
    "print(message)"
   ]
  },
  {
   "cell_type": "code",
   "execution_count": null,
   "id": "dc7feaf8-13c0-4fcd-976c-9064b7c38fd0",
   "metadata": {},
   "outputs": [],
   "source": [
    "import string\n",
    "import math\n",
    "\n",
    "# TODO: Demo functions with returns (upper, isupper, sqrt, range, type)\n",
    "message2 = message.upper()\n",
    "message3 = message.lower()\n",
    "\n",
    "sqrt_years = math.sqrt(years)\n",
    "\n",
    "example_range = range(10)\n",
    "\n",
    "print( type(message2) )\n",
    "\n",
    "# TODO: Demo a useful trick with functions (str)\n",
    "first_name = \"Kyle\"\n",
    "last_name = \"Thayer\"\n",
    "\n",
    "combined_name = first_name + \" \" + last_name\n",
    "\n",
    "kyle_age = first_name + \" is \" + str(38) + \" years old\"\n"
   ]
  },
  {
   "cell_type": "markdown",
   "id": "e0ba5540-5133-416e-a052-b3619d4a6a41",
   "metadata": {},
   "source": [
    "## for loops\n",
    "For loops allow you to repeat an action multiple times.\n",
    "\n",
    "```\n",
    "for loop_value in things_to_loop_over:\n",
    "    # Put actions to repeat here\n",
    "```\n",
    "\n",
    "For loops have to have something to loop over, which goes after \"in\".\n",
    "* You can use it with the function range to repeat an action a given number of times.\n",
    "* You can use it on a list, though we'll cover that more later.\n",
    "\n",
    "As the loop goes, it saves the current thing it is looking at in the temporary variable you list before the in.\n",
    "\n",
    "The commands you want to repeat need to be tabbed in one more level than the for statement to indicate they go inside the for loop."
   ]
  },
  {
   "cell_type": "code",
   "execution_count": 10,
   "id": "782cba83-46f2-4b48-99b9-1c3de9c86e9e",
   "metadata": {
    "tags": []
   },
   "outputs": [
    {
     "name": "stdout",
     "output_type": "stream",
     "text": [
      "0\n",
      "1\n",
      "2\n",
      "3\n",
      "4\n",
      "5\n",
      "6\n",
      "7\n",
      "8\n",
      "9\n"
     ]
    }
   ],
   "source": [
    "for num in range(10):\n",
    "    print(num)"
   ]
  },
  {
   "cell_type": "code",
   "execution_count": 11,
   "id": "9c03515d-73f8-43a7-b075-c60cf4ff2d79",
   "metadata": {},
   "outputs": [
    {
     "name": "stdout",
     "output_type": "stream",
     "text": [
      "Kyle\n",
      "Emily\n",
      "Another Person\n"
     ]
    }
   ],
   "source": [
    "for text in [\"Kyle\", \"Emily\", \"Another Person\"]:\n",
    "    print(text)"
   ]
  },
  {
   "cell_type": "code",
   "execution_count": 13,
   "id": "5d43cc61-d6b9-4ba8-94c3-9a9688fcde6f",
   "metadata": {},
   "outputs": [
    {
     "name": "stdout",
     "output_type": "stream",
     "text": [
      "Kyle is awesome!\n",
      "Emily is awesome!\n",
      "Another Person is awesome!\n"
     ]
    }
   ],
   "source": [
    "for text in [\"Kyle\", \"Emily\", \"Another Person\"]:\n",
    "    print(text + \" is awesome!\")"
   ]
  },
  {
   "cell_type": "code",
   "execution_count": 14,
   "id": "b82d591f-ee12-454e-89ea-191aab1a099c",
   "metadata": {},
   "outputs": [
    {
     "name": "stdout",
     "output_type": "stream",
     "text": [
      "KYLE IS AWESOME!\n",
      "EMILY IS AWESOME!\n",
      "ANOTHER PERSON IS AWESOME!\n"
     ]
    }
   ],
   "source": [
    "for text in [\"Kyle\", \"Emily\", \"Another Person\"]:\n",
    "    sentence = text + \" is awesome!\"\n",
    "    upper_sentence = sentence.upper()\n",
    "    print(upper_sentence)"
   ]
  },
  {
   "cell_type": "code",
   "execution_count": 15,
   "id": "39a89427-b5f0-42e7-a922-71f244016f52",
   "metadata": {},
   "outputs": [
    {
     "ename": "IndentationError",
     "evalue": "expected an indented block (2398561931.py, line 3)",
     "output_type": "error",
     "traceback": [
      "\u001b[0;36m  File \u001b[0;32m\"/tmp/ipykernel_187/2398561931.py\"\u001b[0;36m, line \u001b[0;32m3\u001b[0m\n\u001b[0;31m    print(text + \" is awesome!\")\u001b[0m\n\u001b[0m    ^\u001b[0m\n\u001b[0;31mIndentationError\u001b[0m\u001b[0;31m:\u001b[0m expected an indented block\n"
     ]
    }
   ],
   "source": [
    "#Error if inside is not spaced over\n",
    "# for loops need sonmething inside, which is signaled\n",
    "# by the spaced over line after it\n",
    "# if there is no spaced over line, it thinks you forgot\n",
    "for text in [\"Kyle\", \"Emily\", \"Another Person\"]:\n",
    "print(text + \" is awesome!\")"
   ]
  },
  {
   "cell_type": "code",
   "execution_count": 16,
   "id": "8692c01e-3033-4772-b597-708ef42a029f",
   "metadata": {},
   "outputs": [
    {
     "name": "stdout",
     "output_type": "stream",
     "text": [
      "<<<<< 1/40\n",
      "^^^^^ 2/40\n",
      ">>>>> 3/40\n",
      "vvvvv 4/40\n",
      "<<<<< 5/40\n",
      "^^^^^ 6/40\n",
      ">>>>> 7/40\n",
      "vvvvv 8/40\n",
      "<<<<< 9/40\n",
      "^^^^^ 10/40\n",
      ">>>>> 11/40\n",
      "vvvvv 12/40\n",
      "<<<<< 13/40\n",
      "^^^^^ 14/40\n",
      ">>>>> 15/40\n",
      "vvvvv 16/40\n",
      "<<<<< 17/40\n",
      "^^^^^ 18/40\n",
      ">>>>> 19/40\n",
      "vvvvv 20/40\n",
      "<<<<< 21/40\n",
      "^^^^^ 22/40\n",
      ">>>>> 23/40\n",
      "vvvvv 24/40\n",
      "<<<<< 25/40\n",
      "^^^^^ 26/40\n",
      ">>>>> 27/40\n",
      "vvvvv 28/40\n",
      "<<<<< 29/40\n",
      "^^^^^ 30/40\n",
      ">>>>> 31/40\n",
      "vvvvv 32/40\n",
      "<<<<< 33/40\n",
      "^^^^^ 34/40\n",
      ">>>>> 35/40\n",
      "vvvvv 36/40\n",
      "<<<<< 37/40\n",
      "^^^^^ 38/40\n",
      ">>>>> 39/40\n",
      "vvvvv 40/40\n"
     ]
    }
   ],
   "source": [
    "for x in range(10):\n",
    "    print(\"<<<<< \" + str(x*4 + 1) + \"/40\")\n",
    "    print(\"^^^^^ \" + str(x*4 + 2) + \"/40\")\n",
    "    print(\">>>>> \" + str(x*4 + 3) + \"/40\")\n",
    "    print(\"vvvvv \" + str(x*4 + 4) + \"/40\")"
   ]
  },
  {
   "cell_type": "markdown",
   "id": "97b0b6eb-404b-4883-8ac6-c6fd64658570",
   "metadata": {},
   "source": [
    "## Dictionary (mapping)\n",
    "Python also lets you have a variable that has multiple named pieces (it's like your variable has its own variables). The type of this is \"dict\"\n",
    "\n",
    "We won't go into details here, but if you have a variable that is type \"dict\", you can access the different components by using a dot. \n",
    "\n",
    "For example, if I have a variable `book` which is a type \"dict\" and it has components `pages` and `author`, I can get the value of the pages and author like this:\n",
    "```\n",
    "book.pages\n",
    "book.author\n",
    "```"
   ]
  },
  {
   "cell_type": "markdown",
   "id": "6d4c7bf9-bf77-4f9e-8eb0-00088d4b9934",
   "metadata": {},
   "source": [
    "## Last lecture's code\n",
    "Now let's look at some of the code from last lecture and see if we understand it better"
   ]
  },
  {
   "cell_type": "code",
   "execution_count": null,
   "id": "0ea89fdc-a383-46c6-b7e3-7b58594d233f",
   "metadata": {},
   "outputs": [],
   "source": [
    "!pip install tweepy\n",
    "import tweepy\n",
    "import bot_keys\n",
    "\n",
    "client = tweepy.Client(consumer_key=bot_keys.consumer_key, consumer_secret=bot_keys.consumer_secret,\n",
    "                       access_token=bot_keys.access_token, access_token_secret=bot_keys.access_token_secret)\n",
    "\n",
    "client.create_tweet(text=\"This is tweet was posted by a computer program!\")\n",
    "\n",
    "for x in range(10):\n",
    "      client.create_tweet(text=\"test Computer program posting tweet \" + str(x))"
   ]
  },
  {
   "cell_type": "markdown",
   "id": "778efd69-e51e-4434-8a15-522ae6abd983",
   "metadata": {},
   "source": [
    "# Error demos"
   ]
  },
  {
   "cell_type": "code",
   "execution_count": 17,
   "id": "3a710476-fb6a-4077-9e64-237359bfa508",
   "metadata": {},
   "outputs": [
    {
     "ename": "TypeError",
     "evalue": "can only concatenate str (not \"int\") to str",
     "output_type": "error",
     "traceback": [
      "\u001b[0;31m---------------------------------------------------------------------------\u001b[0m",
      "\u001b[0;31mTypeError\u001b[0m                                 Traceback (most recent call last)",
      "\u001b[0;32m/tmp/ipykernel_187/3597869409.py\u001b[0m in \u001b[0;36m<module>\u001b[0;34m\u001b[0m\n\u001b[1;32m      1\u001b[0m \u001b[0;31m# error when I put a number in a string\u001b[0m\u001b[0;34m\u001b[0m\u001b[0;34m\u001b[0m\u001b[0m\n\u001b[0;32m----> 2\u001b[0;31m \u001b[0mexample_text\u001b[0m \u001b[0;34m=\u001b[0m \u001b[0;34m\"how old are you? I am \"\u001b[0m \u001b[0;34m+\u001b[0m \u001b[0;36m3\u001b[0m\u001b[0;34m\u001b[0m\u001b[0;34m\u001b[0m\u001b[0m\n\u001b[0m",
      "\u001b[0;31mTypeError\u001b[0m: can only concatenate str (not \"int\") to str"
     ]
    }
   ],
   "source": [
    "# error when I put a number in a string\n",
    "example_text = \"how old are you? I am \" + 3"
   ]
  },
  {
   "cell_type": "code",
   "execution_count": 18,
   "id": "9e228409-4a10-4296-b20b-d1dc4d360a25",
   "metadata": {},
   "outputs": [
    {
     "ename": "ZeroDivisionError",
     "evalue": "division by zero",
     "output_type": "error",
     "traceback": [
      "\u001b[0;31m---------------------------------------------------------------------------\u001b[0m",
      "\u001b[0;31mZeroDivisionError\u001b[0m                         Traceback (most recent call last)",
      "\u001b[0;32m/tmp/ipykernel_187/3148379653.py\u001b[0m in \u001b[0;36m<module>\u001b[0;34m\u001b[0m\n\u001b[0;32m----> 1\u001b[0;31m \u001b[0mmy_num\u001b[0m \u001b[0;34m=\u001b[0m \u001b[0;36m5\u001b[0m \u001b[0;34m/\u001b[0m \u001b[0;36m0\u001b[0m\u001b[0;34m\u001b[0m\u001b[0;34m\u001b[0m\u001b[0m\n\u001b[0m",
      "\u001b[0;31mZeroDivisionError\u001b[0m: division by zero"
     ]
    }
   ],
   "source": [
    "my_num = 5 / 0"
   ]
  },
  {
   "cell_type": "code",
   "execution_count": 20,
   "id": "f5aa5721-7651-482a-9240-3ddeb94e5e24",
   "metadata": {},
   "outputs": [],
   "source": [
    "kid_1_age = 6"
   ]
  },
  {
   "cell_type": "code",
   "execution_count": 21,
   "id": "c46e9699-c12b-4cb8-8420-06d55f3aac06",
   "metadata": {},
   "outputs": [],
   "source": [
    "kid_2_age = 3"
   ]
  },
  {
   "cell_type": "code",
   "execution_count": 22,
   "id": "0e218ede-84ce-4140-9cfd-5aaf7ced9379",
   "metadata": {},
   "outputs": [],
   "source": [
    "age_difference = kid_1_age - kid_2_age\n"
   ]
  },
  {
   "cell_type": "code",
   "execution_count": null,
   "id": "6f9b883f-9607-4582-9f80-b52feda54437",
   "metadata": {},
   "outputs": [],
   "source": []
  }
 ],
 "metadata": {
  "kernelspec": {
   "display_name": "Python 3 (ipykernel)",
   "language": "python",
   "name": "python3"
  },
  "language_info": {
   "codemirror_mode": {
    "name": "ipython",
    "version": 3
   },
   "file_extension": ".py",
   "mimetype": "text/x-python",
   "name": "python",
   "nbconvert_exporter": "python",
   "pygments_lexer": "ipython3",
   "version": "3.9.7"
  }
 },
 "nbformat": 4,
 "nbformat_minor": 5
}

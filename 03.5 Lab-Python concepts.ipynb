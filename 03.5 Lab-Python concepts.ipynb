{
 "cells": [
  {
   "cell_type": "markdown",
   "id": "a5538971-c471-42ab-bcb6-6d75a714b287",
   "metadata": {},
   "source": [
    "# Python programming concept practice"
   ]
  },
  {
   "cell_type": "markdown",
   "id": "18d01b7f-ef0e-4e86-b692-52edefa986ac",
   "metadata": {},
   "source": [
    "## Variable Inspector\n",
    "Before we begin, run the code below to install a helpful library, then refresh your browser tab.\n",
    "\n",
    "Once you've done that, when you right click here, one of the bottom options should be \"Variable Inspector.\" Open that and then drag it to the side to make two divided tabs (as was demonstrated in the lecture). \n"
   ]
  },
  {
   "cell_type": "code",
   "execution_count": null,
   "id": "c5c6d02b-5ad8-4ad2-8199-f0c2ed08fe31",
   "metadata": {},
   "outputs": [],
   "source": [
    "!pip install lckr-jupyterlab-variableinspector"
   ]
  },
  {
   "cell_type": "markdown",
   "id": "152fc92f-dcb2-40c8-bd0a-73b2592a42d6",
   "metadata": {
    "tags": []
   },
   "source": [
    "## Variables\n",
    "You will first practice saving values into variables. Remember, the way we save a value into a variable is like this:\n",
    "```\n",
    "variable_name = value\n",
    "```\n",
    "\n",
    "First, save the value 5 into a variable named `number_of_pies`"
   ]
  },
  {
   "cell_type": "code",
   "execution_count": null,
   "id": "ba392144-c5d0-4bcf-8682-aaac3f72fae2",
   "metadata": {},
   "outputs": [],
   "source": []
  },
  {
   "cell_type": "markdown",
   "id": "6cd44367-b94d-48bc-abbb-dbab35d070f3",
   "metadata": {},
   "source": [
    "Now, save the value 12.5 into a variable named `cost_per_pie`"
   ]
  },
  {
   "cell_type": "code",
   "execution_count": null,
   "id": "c5483b8c-ef40-4a5d-929b-d7e5ec71dada",
   "metadata": {},
   "outputs": [],
   "source": []
  },
  {
   "cell_type": "markdown",
   "id": "82eae4e8-37f5-4cd4-8545-210e5007fa8f",
   "metadata": {},
   "source": [
    "Now make a new variable called `total_pie_cost` and save into the value of the number_of_pies multiplied by the cost_per_pie.\n",
    "\n",
    "Note: In python (and many programming languages), the symbol for multiply is `*`"
   ]
  },
  {
   "cell_type": "code",
   "execution_count": null,
   "id": "fe3cbc70-d19f-45fd-badf-769d13ece4e6",
   "metadata": {},
   "outputs": [],
   "source": []
  },
  {
   "cell_type": "markdown",
   "id": "7b69ec96-f795-4705-8e67-0ea53f83146b",
   "metadata": {},
   "source": [
    "Now, make a new variable called `name` and assign your first name to it"
   ]
  },
  {
   "cell_type": "code",
   "execution_count": null,
   "id": "e6365b43-516a-4029-8eeb-31d6897281de",
   "metadata": {},
   "outputs": [],
   "source": []
  },
  {
   "cell_type": "markdown",
   "id": "eeecbbbf-5cb2-4015-b9a2-59881e539552",
   "metadata": {},
   "source": [
    "Now, add your last name and save it back into the name variable"
   ]
  },
  {
   "cell_type": "code",
   "execution_count": null,
   "id": "408e7e01-4497-49e6-87a6-bc1f8f37c76f",
   "metadata": {},
   "outputs": [],
   "source": []
  },
  {
   "cell_type": "markdown",
   "id": "bfda3c2d-323f-4fee-b883-42e7fcb4365e",
   "metadata": {},
   "source": [
    "Create a variable called `age` and assign your age to it."
   ]
  },
  {
   "cell_type": "code",
   "execution_count": null,
   "id": "c48e68c7-bc8d-4dc1-921e-227cc26ef122",
   "metadata": {},
   "outputs": [],
   "source": []
  },
  {
   "cell_type": "markdown",
   "id": "cfb2e77b-0eb1-4abf-87f6-826f04b10ca0",
   "metadata": {},
   "source": [
    "~ A year goes by ~\n",
    "\n",
    "Increase the `age` variable by 1. "
   ]
  },
  {
   "cell_type": "code",
   "execution_count": null,
   "id": "471d4448-d39a-4601-b3f4-94e47d4f20fd",
   "metadata": {},
   "outputs": [],
   "source": []
  },
  {
   "cell_type": "markdown",
   "id": "b1847eb6-fb55-48db-9dca-5fa42bcbad35",
   "metadata": {},
   "source": [
    "Using both variables, create a new variable and assign the sentence \"NAME is AGE years old!\" to it. Think of your own variable name.\n",
    "\n",
    "*hint: make sure to cast numbers as strings with the str() function when combining them with other strings."
   ]
  },
  {
   "cell_type": "code",
   "execution_count": null,
   "id": "ee34f47d-6a28-4667-aa8a-c61c535c7287",
   "metadata": {
    "tags": []
   },
   "outputs": [],
   "source": []
  },
  {
   "cell_type": "markdown",
   "id": "85f1c6fb-531f-44c9-a0a6-f114743e0aff",
   "metadata": {},
   "source": [
    "## Indexing"
   ]
  },
  {
   "cell_type": "markdown",
   "id": "52b89039-3500-4512-8b3d-4db5f25f1c16",
   "metadata": {},
   "source": [
    "When we think of strings, we commonly think of them as a sequence of characters, where each character has an index in the string. Each character has its own spot in the sequence, and the spots are ordered starting at index 0 going up to the end of the string.\n",
    "\n",
    "Python lets you access a character at a specific index using the [] notation\n",
    "\n",
    "Note: You can use either \"double quotes\" or 'single quotes' to indicate a string"
   ]
  },
  {
   "cell_type": "code",
   "execution_count": null,
   "id": "27a164d6-6ba3-4aa3-a2bb-1df12d675fc4",
   "metadata": {
    "tags": []
   },
   "outputs": [],
   "source": [
    "# try running the following examples:\n",
    "\n",
    "wa = 'Washington'"
   ]
  },
  {
   "cell_type": "code",
   "execution_count": null,
   "id": "40e2283e-556e-4415-af4e-63e67973bc43",
   "metadata": {},
   "outputs": [],
   "source": [
    "wa[0]"
   ]
  },
  {
   "cell_type": "code",
   "execution_count": null,
   "id": "19c8b97e-a716-4fd4-b91e-a42fa6549be5",
   "metadata": {},
   "outputs": [],
   "source": [
    "wa[1]"
   ]
  },
  {
   "cell_type": "code",
   "execution_count": null,
   "id": "15eb1818-9fb0-41cd-a753-73427e8a4b0a",
   "metadata": {},
   "outputs": [],
   "source": [
    "wa[5:]"
   ]
  },
  {
   "cell_type": "code",
   "execution_count": null,
   "id": "119c7827-f178-4fd8-974b-bed5410c6848",
   "metadata": {},
   "outputs": [],
   "source": [
    "wa[:5]"
   ]
  },
  {
   "cell_type": "code",
   "execution_count": null,
   "id": "35cfaf18-762d-4413-afb2-b7e865769fe0",
   "metadata": {},
   "outputs": [],
   "source": [
    "wa[2:4]"
   ]
  },
  {
   "cell_type": "markdown",
   "id": "54da86fc-2b97-4477-a641-f9a8aeb95060",
   "metadata": {},
   "source": [
    "Return the first letter of your name"
   ]
  },
  {
   "cell_type": "code",
   "execution_count": null,
   "id": "e417fdff-88fd-4454-9564-9402134f9f9c",
   "metadata": {},
   "outputs": [],
   "source": []
  },
  {
   "cell_type": "markdown",
   "id": "80568a64-9506-4664-a02a-47f1fe45fe4a",
   "metadata": {},
   "source": [
    "Return all the letters of your name EXCEPT for the first."
   ]
  },
  {
   "cell_type": "code",
   "execution_count": null,
   "id": "5fec7456-a984-4e19-8e2f-d22e0808789f",
   "metadata": {},
   "outputs": [],
   "source": []
  },
  {
   "cell_type": "markdown",
   "id": "c3dc6e7f-63e4-4975-92cf-1042dc3294c6",
   "metadata": {
    "tags": []
   },
   "source": [
    "## Calling Functions"
   ]
  },
  {
   "cell_type": "markdown",
   "id": "25b8da3f-dc18-42be-a5a4-c013eede8be5",
   "metadata": {},
   "source": [
    "You can suspend execution of your code for the given number of seconds using the python function `time.sleep()`"
   ]
  },
  {
   "cell_type": "code",
   "execution_count": null,
   "id": "25335e93-d48b-472b-b4be-86d237aa6282",
   "metadata": {},
   "outputs": [],
   "source": [
    "# try running this example: \n",
    "\n",
    "import time  # you must load the time library in order to use 'sleep'\n",
    "\n",
    "display('Monday was a sunny day.')\n",
    "time.sleep(3)                              # waits 3 seconds\n",
    "display('So I decided to go for a walk.')\n",
    "time.sleep(4)                              # waits 4 seconds\n",
    "display('The end!')"
   ]
  },
  {
   "cell_type": "markdown",
   "id": "7d3df380-c21d-4cc3-937c-0e301c6d1538",
   "metadata": {},
   "source": [
    "You can also find out the length of a string using the python function `len()`. "
   ]
  },
  {
   "cell_type": "code",
   "execution_count": null,
   "id": "9d4415c0-3cfd-4a9e-ae46-9ae5f64ca3ca",
   "metadata": {},
   "outputs": [],
   "source": [
    "# try running this example:\n",
    "\n",
    "weather = 'Today was a rainy day'\n",
    "len(weather)"
   ]
  },
  {
   "cell_type": "markdown",
   "id": "fbaa0f2b-14bc-4181-a45a-1fde3248f024",
   "metadata": {},
   "source": [
    "Return the length of your name using the `len()` function and the `name` variable."
   ]
  },
  {
   "cell_type": "code",
   "execution_count": null,
   "id": "c04ad929-0ddc-497d-8db1-7a1d70aec588",
   "metadata": {},
   "outputs": [],
   "source": []
  },
  {
   "cell_type": "markdown",
   "id": "74c44af5-8399-450b-8d61-d15201b8ab11",
   "metadata": {},
   "source": [
    "Create a story using the `sleep()` function (at least 2 times)."
   ]
  },
  {
   "cell_type": "code",
   "execution_count": null,
   "id": "15c057e0-203b-42de-aa9d-5abdccd0cb94",
   "metadata": {},
   "outputs": [],
   "source": []
  },
  {
   "cell_type": "markdown",
   "id": "46fb2eb2-045b-4493-9248-d9fb56ef10d4",
   "metadata": {},
   "source": [
    "## Loops"
   ]
  },
  {
   "cell_type": "markdown",
   "id": "a1855faa-2888-49de-b17d-2e9ebc59262c",
   "metadata": {},
   "source": [
    "For loops let you iterate over a sequence of values."
   ]
  },
  {
   "cell_type": "code",
   "execution_count": null,
   "id": "7b73d53f-2ef9-4097-8924-de9de952c4c0",
   "metadata": {},
   "outputs": [],
   "source": [
    "# try out this example:\n",
    "\n",
    "for num in range(10):\n",
    "    print(num)"
   ]
  },
  {
   "cell_type": "markdown",
   "id": "09cd460f-3ce0-42e3-9096-1d74a8465208",
   "metadata": {},
   "source": [
    "Create a loop of range 5, mutiplying each number by 2"
   ]
  },
  {
   "cell_type": "code",
   "execution_count": null,
   "id": "0b2cca40-0c38-4de0-b092-27a6109b5845",
   "metadata": {},
   "outputs": [],
   "source": []
  },
  {
   "cell_type": "markdown",
   "id": "73141ef4-1f42-4f31-b8ac-a3fd560ff32a",
   "metadata": {},
   "source": [
    "Create a loop of range 5, squaring each number"
   ]
  },
  {
   "cell_type": "code",
   "execution_count": null,
   "id": "3ad435e0-c2ff-440a-a18c-8c4b3ecbf4cb",
   "metadata": {},
   "outputs": [],
   "source": []
  },
  {
   "cell_type": "markdown",
   "id": "6792805b-e090-445e-a781-7333029fa6c6",
   "metadata": {},
   "source": [
    "## Lists"
   ]
  },
  {
   "cell_type": "markdown",
   "id": "1e990460-6859-4509-9b3b-75388f6e497d",
   "metadata": {},
   "source": [
    "Variables can also store different data structures such as lists. Create a list of at least 3 food items and assign it to a variable called `favorite_foods`. \n",
    "\n",
    "Remember, lists have this structure:\n",
    "\n",
    "```\n",
    "[item1, item2, item3]\n",
    "```\n"
   ]
  },
  {
   "cell_type": "code",
   "execution_count": null,
   "id": "071bccdd-3e6b-4898-8ab0-448d4d884b5b",
   "metadata": {},
   "outputs": [],
   "source": []
  },
  {
   "cell_type": "markdown",
   "id": "38f37688-ad3f-4fdb-9df0-8863d374f110",
   "metadata": {},
   "source": [
    "Just like strings, lists also have indexes."
   ]
  },
  {
   "cell_type": "code",
   "execution_count": null,
   "id": "5ff666b7-eaa9-4192-a375-126ea2a1380e",
   "metadata": {},
   "outputs": [],
   "source": [
    "# try out this example:\n",
    "\n",
    "states = ['California', 'Washington', 'New York']\n",
    "states[0]"
   ]
  },
  {
   "cell_type": "markdown",
   "id": "c2afdf51-121b-478a-8080-350095ff2392",
   "metadata": {},
   "source": [
    "Return the second index in your list."
   ]
  },
  {
   "cell_type": "code",
   "execution_count": null,
   "id": "7930a28f-64f9-4a58-b003-cdd6131612c3",
   "metadata": {},
   "outputs": [],
   "source": []
  },
  {
   "cell_type": "markdown",
   "id": "54d0690d-77a8-46c5-9d13-0a267ac67af8",
   "metadata": {},
   "source": [
    "Use the `len()` function to return the length of your list"
   ]
  },
  {
   "cell_type": "code",
   "execution_count": null,
   "id": "63bc74b1-ed92-4704-bd1b-6b80e8f99a6c",
   "metadata": {
    "tags": []
   },
   "outputs": [],
   "source": []
  },
  {
   "cell_type": "markdown",
   "id": "4eaa55f5-5a19-4989-a3a8-5c587b999e39",
   "metadata": {},
   "source": [
    "Loop through the list. For each iteration, print out the sentence: \"NAME's favorite food is FOOD\", replacing NAME with your `name` variable and food with each food in your `favorite_foods` list. \n",
    "\n",
    "Hint: You should print out the same number of lines as your answer for the previous question."
   ]
  },
  {
   "cell_type": "code",
   "execution_count": null,
   "id": "917628df-38cd-4df8-b00c-2b86bfcc494d",
   "metadata": {},
   "outputs": [],
   "source": []
  }
 ],
 "metadata": {
  "kernelspec": {
   "display_name": "Python 3 (ipykernel)",
   "language": "python",
   "name": "python3"
  },
  "language_info": {
   "codemirror_mode": {
    "name": "ipython",
    "version": 3
   },
   "file_extension": ".py",
   "mimetype": "text/x-python",
   "name": "python",
   "nbconvert_exporter": "python",
   "pygments_lexer": "ipython3",
   "version": "3.9.7"
  }
 },
 "nbformat": 4,
 "nbformat_minor": 5
}
